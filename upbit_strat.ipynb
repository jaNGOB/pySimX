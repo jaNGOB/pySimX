{
 "cells": [
  {
   "cell_type": "code",
   "execution_count": 1,
   "metadata": {},
   "outputs": [],
   "source": [
    "import os \n",
    "import pandas as pd\n",
    "from tqdm import tqdm\n",
    "import numpy as np\n",
    "\n",
    "from src.data_types import TOB, Order\n",
    "from src.exchange import TOB_Exchange\n",
    "\n",
    "%load_ext autoreload \n",
    "%autoreload 2"
   ]
  },
  {
   "cell_type": "code",
   "execution_count": 2,
   "metadata": {},
   "outputs": [
    {
     "data": {
      "text/plain": [
       "['binance_quotes_2023-07-02_COMPBTC.csv.gz',\n",
       " 'binance_quotes_2023-07-05_COMPBTC.csv.gz',\n",
       " 'binance_quotes_2023-07-04_COMPBTC.csv.gz',\n",
       " 'binance_quotes_2023-07-03_COMPBTC.csv.gz']"
      ]
     },
     "execution_count": 2,
     "metadata": {},
     "output_type": "execute_result"
    }
   ],
   "source": [
    "# define folder path\n",
    "# folder_path = 'C:/Users/gobel/code/research_env/keyrock/bi-repo/data/tardis/datasets/'\n",
    "folder_path = '/Users/jan-gobeli/Code/bi-repo/data/tardis/datasets/'\n",
    "# folder_path = '/Users/nick-kokkaliaris/Desktop/Keyrock/Keyrock/Tardis Playground/datasets/'\n",
    "files_list = [\n",
    "    f for f in os.listdir(folder_path) if os.path.isfile(os.path.join(folder_path, f)) \n",
    "    and f.split('_')[0] == 'binance' \n",
    "    and f.split('_')[-1] == 'COMPBTC.csv.gz'\n",
    "    #and f.split('_')[-2] == 'OG'\n",
    "    and f.split('_')[1] == 'quotes']\n",
    "files_list"
   ]
  },
  {
   "cell_type": "code",
   "execution_count": 3,
   "metadata": {},
   "outputs": [],
   "source": [
    "# bin_trades = [\n",
    "#     f for f in os.listdir(folder_path) if os.path.isfile(os.path.join(folder_path, f)) \n",
    "#     and f.split('_')[0] == 'binance' \n",
    "#     and f.split('_')[-1] == 'COMPBTC.csv.gz'\n",
    "#     #and f.split('_')[-2] == 'OG'\n",
    "#     and f.split('_')[1] == 'trades']\n",
    "# u_trades = [\n",
    "#     f for f in os.listdir(folder_path) if os.path.isfile(os.path.join(folder_path, f)) \n",
    "#     and f.split('_')[0] == 'upbit' \n",
    "#     and f.split('_')[-1] == 'BTC-COMP.csv.gz'\n",
    "#     #and f.split('_')[-2] == 'OG'\n",
    "#     and f.split('_')[1] == 'trades']\n",
    "# ufiles_list = [\n",
    "#     f for f in os.listdir(folder_path) if os.path.isfile(os.path.join(folder_path, f)) \n",
    "#     and f.split('_')[0] == 'upbit' \n",
    "#     and f.split('_')[-1] == 'BTC-COMP.csv.gz'\n",
    "#     #and f.split('_')[-2] == 'OG'\n",
    "#     and f.split('_')[1] == 'quotes']"
   ]
  },
  {
   "cell_type": "code",
   "execution_count": 4,
   "metadata": {},
   "outputs": [],
   "source": [
    "def get_data(files_list):\n",
    "    df = pd.DataFrame()\n",
    "    # Use a loop to get all the csv.gz files from the path location in a single Dataframe\n",
    "    for csv_file in tqdm(files_list):\n",
    "        file_name = (folder_path + csv_file)\n",
    "        if file_name[-2:] == \"gz\":\n",
    "            df1 = pd.read_csv(file_name, compression='gzip')\n",
    "            # Concatenate all the dataframes into a single dataframe\n",
    "            df = pd.concat([df, df1], ignore_index=True)\n",
    "    return df"
   ]
  },
  {
   "cell_type": "code",
   "execution_count": 5,
   "metadata": {},
   "outputs": [
    {
     "name": "stderr",
     "output_type": "stream",
     "text": [
      "  0%|          | 0/4 [00:00<?, ?it/s]"
     ]
    },
    {
     "name": "stderr",
     "output_type": "stream",
     "text": [
      "100%|██████████| 4/4 [00:00<00:00, 16.41it/s]\n"
     ]
    }
   ],
   "source": [
    "# upbit = get_data(ufiles_list)\n",
    "binance = get_data(files_list)\n",
    "\n",
    "# upbit_t = get_data(u_trades)\n",
    "# binance_t = get_data(bin_trades)"
   ]
  },
  {
   "cell_type": "code",
   "execution_count": 6,
   "metadata": {},
   "outputs": [],
   "source": [
    "binance['time'] = pd.to_datetime(binance.timestamp, unit='us')\n",
    "# upbit['time'] = pd.to_datetime(upbit.timestamp, unit='us')\n",
    "# binance_t['time'] = pd.to_datetime(binance_t.timestamp, unit='us')\n",
    "# upbit_t['time'] = pd.to_datetime(upbit_t.timestamp, unit='us')\n",
    "\n",
    "binance.set_index('time', inplace=True)\n",
    "# upbit.set_index('time', inplace=True)\n",
    "# binance_t.set_index('time', inplace=True)\n",
    "# upbit_t.set_index('time', inplace=True)"
   ]
  },
  {
   "cell_type": "code",
   "execution_count": 7,
   "metadata": {},
   "outputs": [],
   "source": [
    "# binance_t = binance_t[['timestamp', 'side', 'price', 'amount']].groupby(['timestamp', 'side', 'price']).sum().reset_index()"
   ]
  },
  {
   "cell_type": "code",
   "execution_count": 8,
   "metadata": {},
   "outputs": [
    {
     "data": {
      "text/plain": [
       "0.2902754220552034"
      ]
     },
     "execution_count": 8,
     "metadata": {},
     "output_type": "execute_result"
    }
   ],
   "source": [
    "binance['latency'] = binance.local_timestamp - binance.timestamp\n",
    "binance.latency.std() / binance.latency.mean()"
   ]
  },
  {
   "cell_type": "code",
   "execution_count": 51,
   "metadata": {},
   "outputs": [],
   "source": [
    "lst = binance[['timestamp', 'bid_amount', 'bid_price', 'ask_price', 'ask_amount']].sort_values('timestamp').to_numpy()\n",
    "\n",
    "symbol = 'COMPBTC'\n",
    "\n",
    "exchg = TOB_Exchange(latency=[5000, 0.29])\n",
    "exchg.add_market(symbol, 'COMP', 'BTC')\n",
    "exchg.add_balance('COMP', 0)\n",
    "exchg.add_balance('BTC', 0.1)\n",
    "exchg.load_tob(lst, symbol)"
   ]
  },
  {
   "cell_type": "code",
   "execution_count": 52,
   "metadata": {},
   "outputs": [],
   "source": [
    "binance['spread'] = binance.ask_price / binance.bid_price - 1\n",
    "binance['bid_pressure'] = binance.bid_amount / (binance.bid_amount + binance.ask_amount)"
   ]
  },
  {
   "cell_type": "code",
   "execution_count": 53,
   "metadata": {},
   "outputs": [],
   "source": [
    "def signal(tob):\n",
    "    bid_pressure = tob['bid_quantity'] / (tob['bid_quantity'] + tob['ask_quantity'])\n",
    "\n",
    "    if bid_pressure >= 0.999: \n",
    "        return 1 \n",
    "    \n",
    "    elif bid_pressure <= 0.5: \n",
    "        return -1 \n",
    "    \n",
    "    else: \n",
    "        return 0"
   ]
  },
  {
   "cell_type": "code",
   "execution_count": 54,
   "metadata": {},
   "outputs": [],
   "source": [
    "class tob_imbalance(): \n",
    "    def __init__(self):\n",
    "        self.symbol = 'COMPBTC'\n",
    "        self.amount = 1\n",
    "\n",
    "        self.flag = False\n",
    "\n",
    "    def run_strategy(self):\n",
    "\n",
    "        tob = exchg.fetch_tob(self.symbol)\n",
    "\n",
    "        decision = signal(tob)\n",
    "\n",
    "        if (decision == 1) and not (self.flag): \n",
    "            exchg.market_order(symbol, self.amount, decision, tob['timestamp'])\n",
    "            self.flag = True\n",
    "\n",
    "        elif (decision == -1) and (self.flag): \n",
    "            exchg.market_order(symbol, self.amount, decision, tob['timestamp'])\n",
    "            self.flag = False\n",
    "\n",
    "        else: \n",
    "            pass"
   ]
  },
  {
   "cell_type": "code",
   "execution_count": 55,
   "metadata": {},
   "outputs": [
    {
     "name": "stdout",
     "output_type": "stream",
     "text": [
      "Trade Executed Trade(trade_id=199, order_id=201, side=1, taker=True, amount=1, price=0.001716, entryTime=1688256004133884.0, eventTime=1688256004133884.0)\n",
      "Trade Executed Trade(trade_id=200, order_id=202, side=-1, taker=True, amount=1, price=0.001678, entryTime=1688264792960093.5, eventTime=1688264792960093.5)\n",
      "Trade Executed Trade(trade_id=201, order_id=203, side=1, taker=True, amount=1, price=0.001678, entryTime=1688264793160929.8, eventTime=1688264793160929.8)\n",
      "Trade Executed Trade(trade_id=202, order_id=204, side=-1, taker=True, amount=1, price=0.001813, entryTime=1688289151271236.8, eventTime=1688289151271236.8)\n",
      "Trade Executed Trade(trade_id=203, order_id=205, side=1, taker=True, amount=1, price=0.001812, entryTime=1688289155472195.0, eventTime=1688289155472195.0)\n",
      "Trade Executed Trade(trade_id=204, order_id=206, side=-1, taker=True, amount=1, price=0.00181, entryTime=1688290431464100.5, eventTime=1688290431464100.5)\n",
      "Trade Executed Trade(trade_id=205, order_id=207, side=1, taker=True, amount=1, price=0.001811, entryTime=1688290432067282.2, eventTime=1688290432067282.2)\n",
      "Trade Executed Trade(trade_id=206, order_id=208, side=-1, taker=True, amount=1, price=0.001937, entryTime=1688293721808686.0, eventTime=1688293721808686.0)\n",
      "Trade Executed Trade(trade_id=207, order_id=209, side=1, taker=True, amount=1, price=0.001938, entryTime=1688293722210360.2, eventTime=1688293722210360.2)\n",
      "Trade Executed Trade(trade_id=208, order_id=210, side=-1, taker=True, amount=1, price=0.001987, entryTime=1688293845276616.8, eventTime=1688293845276616.8)\n",
      "Trade Executed Trade(trade_id=209, order_id=211, side=1, taker=True, amount=1, price=0.001986, entryTime=1688293847376084.0, eventTime=1688293847376084.0)\n",
      "Trade Executed Trade(trade_id=210, order_id=212, side=-1, taker=True, amount=1, price=0.002061, entryTime=1688298299781556.8, eventTime=1688298299781556.8)\n",
      "Trade Executed Trade(trade_id=211, order_id=213, side=1, taker=True, amount=1, price=0.002061, entryTime=1688298302083205.8, eventTime=1688298302083205.8)\n",
      "Trade Executed Trade(trade_id=212, order_id=214, side=-1, taker=True, amount=1, price=0.002047, entryTime=1688298613951826.2, eventTime=1688298613951826.2)\n",
      "Trade Executed Trade(trade_id=213, order_id=215, side=1, taker=True, amount=1, price=0.002048, entryTime=1688298614754446.5, eventTime=1688298614754446.5)\n",
      "Trade Executed Trade(trade_id=214, order_id=216, side=-1, taker=True, amount=1, price=0.002019, entryTime=1688298996760212.5, eventTime=1688298996760212.5)\n",
      "Trade Executed Trade(trade_id=215, order_id=217, side=1, taker=True, amount=1, price=0.002018, entryTime=1688299000166314.0, eventTime=1688299000166314.0)\n",
      "Trade Executed Trade(trade_id=216, order_id=218, side=-1, taker=True, amount=1, price=0.002016, entryTime=1688299157150882.5, eventTime=1688299157150882.5)\n",
      "Trade Executed Trade(trade_id=217, order_id=219, side=1, taker=True, amount=1, price=0.002013, entryTime=1688299158249617.2, eventTime=1688299158249617.2)\n",
      "Trade Executed Trade(trade_id=218, order_id=220, side=-1, taker=True, amount=1, price=0.00201, entryTime=1688301522905353.2, eventTime=1688301522905353.2)\n",
      "Trade Executed Trade(trade_id=219, order_id=221, side=1, taker=True, amount=1, price=0.00201, entryTime=1688301523709349.5, eventTime=1688301523709349.5)\n",
      "Trade Executed Trade(trade_id=220, order_id=222, side=-1, taker=True, amount=1, price=0.002023, entryTime=1688304390954416.0, eventTime=1688304390954416.0)\n",
      "Trade Executed Trade(trade_id=221, order_id=223, side=1, taker=True, amount=1, price=0.002022, entryTime=1688304392060150.0, eventTime=1688304392060150.0)\n",
      "Trade Executed Trade(trade_id=222, order_id=224, side=-1, taker=True, amount=1, price=0.002053, entryTime=1688310160335994.8, eventTime=1688310160335994.8)\n",
      "Trade Executed Trade(trade_id=223, order_id=225, side=1, taker=True, amount=1, price=0.002054, entryTime=1688310162536658.8, eventTime=1688310162536658.8)\n",
      "Trade Executed Trade(trade_id=224, order_id=226, side=-1, taker=True, amount=1, price=0.002021, entryTime=1688313496502317.5, eventTime=1688313496502317.5)\n",
      "Trade Executed Trade(trade_id=225, order_id=227, side=1, taker=True, amount=1, price=0.002019, entryTime=1688313497102374.8, eventTime=1688313497102374.8)\n",
      "Trade Executed Trade(trade_id=226, order_id=228, side=-1, taker=True, amount=1, price=0.002224, entryTime=1688342733732212.0, eventTime=1688342733732212.0)\n",
      "Trade Executed Trade(trade_id=227, order_id=229, side=1, taker=True, amount=1, price=0.002223, entryTime=1688342733839225.8, eventTime=1688342733839225.8)\n",
      "Trade Executed Trade(trade_id=228, order_id=230, side=-1, taker=True, amount=1, price=0.002218, entryTime=1688343677522906.2, eventTime=1688343677522906.2)\n",
      "Trade Executed Trade(trade_id=229, order_id=231, side=1, taker=True, amount=1, price=0.002218, entryTime=1688343677621685.0, eventTime=1688343677621685.0)\n",
      "Trade Executed Trade(trade_id=230, order_id=232, side=-1, taker=True, amount=1, price=0.002208, entryTime=1688344299945640.0, eventTime=1688344299945640.0)\n",
      "Trade Executed Trade(trade_id=231, order_id=233, side=1, taker=True, amount=1, price=0.002204, entryTime=1688344300943804.5, eventTime=1688344300943804.5)\n",
      "Trade Executed Trade(trade_id=232, order_id=234, side=-1, taker=True, amount=1, price=0.002254, entryTime=1688345878686651.2, eventTime=1688345878686651.2)\n",
      "Trade Executed Trade(trade_id=233, order_id=235, side=1, taker=True, amount=1, price=0.002254, entryTime=1688345879387406.5, eventTime=1688345879387406.5)\n",
      "Trade Executed Trade(trade_id=234, order_id=236, side=-1, taker=True, amount=1, price=0.002248, entryTime=1688347884270539.8, eventTime=1688347884270539.8)\n",
      "Trade Executed Trade(trade_id=235, order_id=237, side=1, taker=True, amount=1, price=0.002248, entryTime=1688347895178752.8, eventTime=1688347895178752.8)\n",
      "Trade Executed Trade(trade_id=236, order_id=238, side=-1, taker=True, amount=1, price=0.00222, entryTime=1688348544913593.8, eventTime=1688348544913593.8)\n",
      "Trade Executed Trade(trade_id=237, order_id=239, side=1, taker=True, amount=1, price=0.002219, entryTime=1688348545513828.0, eventTime=1688348545513828.0)\n",
      "Trade Executed Trade(trade_id=238, order_id=240, side=-1, taker=True, amount=1, price=0.002109, entryTime=1688361913892796.0, eventTime=1688361913892796.0)\n",
      "Trade Executed Trade(trade_id=239, order_id=241, side=1, taker=True, amount=1, price=0.00211, entryTime=1688361917695378.8, eventTime=1688361917695378.8)\n",
      "Trade Executed Trade(trade_id=240, order_id=242, side=-1, taker=True, amount=1, price=0.002108, entryTime=1688375808446103.2, eventTime=1688375808446103.2)\n",
      "Trade Executed Trade(trade_id=241, order_id=243, side=1, taker=True, amount=1, price=0.00211, entryTime=1688375822156039.5, eventTime=1688375822156039.5)\n",
      "Trade Executed Trade(trade_id=242, order_id=244, side=-1, taker=True, amount=1, price=0.002029, entryTime=1688385314670465.5, eventTime=1688385314670465.5)\n",
      "Trade Executed Trade(trade_id=243, order_id=245, side=1, taker=True, amount=1, price=0.002027, entryTime=1688385315571357.2, eventTime=1688385315571357.2)\n",
      "Trade Executed Trade(trade_id=244, order_id=246, side=-1, taker=True, amount=1, price=0.002004, entryTime=1688386611124056.0, eventTime=1688386611124056.0)\n",
      "Trade Executed Trade(trade_id=245, order_id=247, side=1, taker=True, amount=1, price=0.002005, entryTime=1688386611221919.5, eventTime=1688386611221919.5)\n",
      "Trade Executed Trade(trade_id=246, order_id=248, side=-1, taker=True, amount=1, price=0.002041, entryTime=1688390212864262.2, eventTime=1688390212864262.2)\n",
      "Trade Executed Trade(trade_id=247, order_id=249, side=1, taker=True, amount=1, price=0.002041, entryTime=1688390217566116.2, eventTime=1688390217566116.2)\n",
      "Trade Executed Trade(trade_id=248, order_id=250, side=-1, taker=True, amount=1, price=0.002027, entryTime=1688390961857454.2, eventTime=1688390961857454.2)\n",
      "Trade Executed Trade(trade_id=249, order_id=251, side=1, taker=True, amount=1, price=0.002027, entryTime=1688390962651606.2, eventTime=1688390962651606.2)\n",
      "Trade Executed Trade(trade_id=250, order_id=252, side=-1, taker=True, amount=1, price=0.00205, entryTime=1688396929677718.5, eventTime=1688396929677718.5)\n",
      "Trade Executed Trade(trade_id=251, order_id=253, side=1, taker=True, amount=1, price=0.00205, entryTime=1688396929974986.0, eventTime=1688396929974986.0)\n",
      "Trade Executed Trade(trade_id=252, order_id=254, side=-1, taker=True, amount=1, price=0.001996, entryTime=1688434505756257.2, eventTime=1688434505756257.2)\n",
      "Trade Executed Trade(trade_id=253, order_id=255, side=1, taker=True, amount=1, price=0.001996, entryTime=1688434506553133.5, eventTime=1688434506553133.5)\n",
      "Trade Executed Trade(trade_id=254, order_id=256, side=-1, taker=True, amount=1, price=0.001968, entryTime=1688438946775383.0, eventTime=1688438946775383.0)\n",
      "Trade Executed Trade(trade_id=255, order_id=257, side=1, taker=True, amount=1, price=0.001967, entryTime=1688438947779985.0, eventTime=1688438947779985.0)\n",
      "Trade Executed Trade(trade_id=256, order_id=258, side=-1, taker=True, amount=1, price=0.002229, entryTime=1688449069385336.0, eventTime=1688449069385336.0)\n",
      "Trade Executed Trade(trade_id=257, order_id=259, side=1, taker=True, amount=1, price=0.002226, entryTime=1688449072386421.8, eventTime=1688449072386421.8)\n",
      "Trade Executed Trade(trade_id=258, order_id=260, side=-1, taker=True, amount=1, price=0.002076, entryTime=1688452582003691.8, eventTime=1688452582003691.8)\n",
      "Trade Executed Trade(trade_id=259, order_id=261, side=1, taker=True, amount=1, price=0.002076, entryTime=1688452582405262.8, eventTime=1688452582405262.8)\n",
      "Trade Executed Trade(trade_id=260, order_id=262, side=-1, taker=True, amount=1, price=0.002075, entryTime=1688488041295846.5, eventTime=1688488041295846.5)\n",
      "Trade Executed Trade(trade_id=261, order_id=263, side=1, taker=True, amount=1, price=0.002075, entryTime=1688488042198548.8, eventTime=1688488042198548.8)\n",
      "Trade Executed Trade(trade_id=262, order_id=264, side=-1, taker=True, amount=1, price=0.002069, entryTime=1688498119970959.8, eventTime=1688498119970959.8)\n",
      "Trade Executed Trade(trade_id=263, order_id=265, side=1, taker=True, amount=1, price=0.002066, entryTime=1688498123471839.2, eventTime=1688498123471839.2)\n",
      "Trade Executed Trade(trade_id=264, order_id=266, side=-1, taker=True, amount=1, price=0.002076, entryTime=1688499712846206.2, eventTime=1688499712846206.2)\n",
      "Trade Executed Trade(trade_id=265, order_id=267, side=1, taker=True, amount=1, price=0.002076, entryTime=1688499713650812.0, eventTime=1688499713650812.0)\n",
      "Trade Executed Trade(trade_id=266, order_id=268, side=-1, taker=True, amount=1, price=0.002059, entryTime=1688506500109706.0, eventTime=1688506500109706.0)\n",
      "Trade Executed Trade(trade_id=267, order_id=269, side=1, taker=True, amount=1, price=0.002059, entryTime=1688506500206142.0, eventTime=1688506500206142.0)\n",
      "Trade Executed Trade(trade_id=268, order_id=270, side=-1, taker=True, amount=1, price=0.002104, entryTime=1688520138412776.5, eventTime=1688520138412776.5)\n",
      "Trade Executed Trade(trade_id=269, order_id=271, side=1, taker=True, amount=1, price=0.002102, entryTime=1688520138606624.0, eventTime=1688520138606624.0)\n",
      "Trade Executed Trade(trade_id=270, order_id=272, side=-1, taker=True, amount=1, price=0.00202, entryTime=1688545324772364.8, eventTime=1688545324772364.8)\n",
      "Trade Executed Trade(trade_id=271, order_id=273, side=1, taker=True, amount=1, price=0.00202, entryTime=1688545325574073.8, eventTime=1688545325574073.8)\n",
      "Trade Executed Trade(trade_id=272, order_id=274, side=-1, taker=True, amount=1, price=0.001944, entryTime=1688553228092304.5, eventTime=1688553228092304.5)\n",
      "Trade Executed Trade(trade_id=273, order_id=275, side=1, taker=True, amount=1, price=0.001944, entryTime=1688553230096208.5, eventTime=1688553230096208.5)\n",
      "Trade Executed Trade(trade_id=274, order_id=276, side=-1, taker=True, amount=1, price=0.001919, entryTime=1688554884126526.2, eventTime=1688554884126526.2)\n",
      "Trade Executed Trade(trade_id=275, order_id=277, side=1, taker=True, amount=1, price=0.001919, entryTime=1688554886129444.0, eventTime=1688554886129444.0)\n",
      "Trade Executed Trade(trade_id=276, order_id=278, side=-1, taker=True, amount=1, price=0.001921, entryTime=1688554940959549.8, eventTime=1688554940959549.8)\n",
      "Trade Executed Trade(trade_id=277, order_id=279, side=1, taker=True, amount=1, price=0.001921, entryTime=1688554943660596.8, eventTime=1688554943660596.8)\n",
      "Trade Executed Trade(trade_id=278, order_id=280, side=-1, taker=True, amount=1, price=0.00191, entryTime=1688558648931508.2, eventTime=1688558648931508.2)\n",
      "Trade Executed Trade(trade_id=279, order_id=281, side=1, taker=True, amount=1, price=0.001909, entryTime=1688558649033738.5, eventTime=1688558649033738.5)\n",
      "Trade Executed Trade(trade_id=280, order_id=282, side=-1, taker=True, amount=1, price=0.001926, entryTime=1688559847309309.2, eventTime=1688559847309309.2)\n",
      "Trade Executed Trade(trade_id=281, order_id=283, side=1, taker=True, amount=1, price=0.001926, entryTime=1688559849107527.0, eventTime=1688559849107527.0)\n",
      "Trade Executed Trade(trade_id=282, order_id=284, side=-1, taker=True, amount=1, price=0.001876, entryTime=1688568881444176.8, eventTime=1688568881444176.8)\n",
      "Trade Executed Trade(trade_id=283, order_id=285, side=1, taker=True, amount=1, price=0.00188, entryTime=1688568888448520.0, eventTime=1688568888448520.0)\n",
      "Trade Executed Trade(trade_id=284, order_id=286, side=-1, taker=True, amount=1, price=0.00184, entryTime=1688569379302801.2, eventTime=1688569379302801.2)\n",
      "Trade Executed Trade(trade_id=285, order_id=287, side=1, taker=True, amount=1, price=0.001839, entryTime=1688569381305243.0, eventTime=1688569381305243.0)\n",
      "Trade Executed Trade(trade_id=286, order_id=288, side=-1, taker=True, amount=1, price=0.00184, entryTime=1688569575105231.0, eventTime=1688569575105231.0)\n",
      "Trade Executed Trade(trade_id=287, order_id=289, side=1, taker=True, amount=1, price=0.001839, entryTime=1688569576009723.0, eventTime=1688569576009723.0)\n",
      "Trade Executed Trade(trade_id=288, order_id=290, side=-1, taker=True, amount=1, price=0.001836, entryTime=1688569883858745.0, eventTime=1688569883858745.0)\n",
      "Trade Executed Trade(trade_id=289, order_id=291, side=1, taker=True, amount=1, price=0.001836, entryTime=1688569886660852.0, eventTime=1688569886660852.0)\n",
      "Trade Executed Trade(trade_id=290, order_id=292, side=-1, taker=True, amount=1, price=0.001836, entryTime=1688570921569557.5, eventTime=1688570921569557.5)\n",
      "Trade Executed Trade(trade_id=291, order_id=293, side=1, taker=True, amount=1, price=0.001836, entryTime=1688570922366595.0, eventTime=1688570922366595.0)\n",
      "Trade Executed Trade(trade_id=292, order_id=294, side=-1, taker=True, amount=1, price=0.001875, entryTime=1688573659207848.2, eventTime=1688573659207848.2)\n",
      "Trade Executed Trade(trade_id=293, order_id=295, side=1, taker=True, amount=1, price=0.001873, entryTime=1688573660115507.5, eventTime=1688573660115507.5)\n",
      "Trade Executed Trade(trade_id=294, order_id=296, side=-1, taker=True, amount=1, price=0.001912, entryTime=1688574928868778.0, eventTime=1688574928868778.0)\n",
      "Trade Executed Trade(trade_id=295, order_id=297, side=1, taker=True, amount=1, price=0.001912, entryTime=1688574928966976.2, eventTime=1688574928966976.2)\n",
      "Trade Executed Trade(trade_id=296, order_id=298, side=-1, taker=True, amount=1, price=0.001916, entryTime=1688577731349944.5, eventTime=1688577731349944.5)\n",
      "Trade Executed Trade(trade_id=297, order_id=299, side=1, taker=True, amount=1, price=0.001916, entryTime=1688577731451636.5, eventTime=1688577731451636.5)\n"
     ]
    }
   ],
   "source": [
    "exchg.run_simulation(tob_imbalance)"
   ]
  },
  {
   "cell_type": "code",
   "execution_count": 56,
   "metadata": {},
   "outputs": [
    {
     "data": {
      "text/plain": [
       "SortedDict({1688256004133884.0: Trade(trade_id=199, order_id=201, side=1, taker=True, amount=1, price=0.001716, entryTime=1688256004133884.0, eventTime=1688256004133884.0), 1688264792960093.5: Trade(trade_id=200, order_id=202, side=-1, taker=True, amount=1, price=0.001678, entryTime=1688264792960093.5, eventTime=1688264792960093.5), 1688264793160929.8: Trade(trade_id=201, order_id=203, side=1, taker=True, amount=1, price=0.001678, entryTime=1688264793160929.8, eventTime=1688264793160929.8), 1688289151271236.8: Trade(trade_id=202, order_id=204, side=-1, taker=True, amount=1, price=0.001813, entryTime=1688289151271236.8, eventTime=1688289151271236.8), 1688289155472195.0: Trade(trade_id=203, order_id=205, side=1, taker=True, amount=1, price=0.001812, entryTime=1688289155472195.0, eventTime=1688289155472195.0), 1688290431464100.5: Trade(trade_id=204, order_id=206, side=-1, taker=True, amount=1, price=0.00181, entryTime=1688290431464100.5, eventTime=1688290431464100.5), 1688290432067282.2: Trade(trade_id=205, order_id=207, side=1, taker=True, amount=1, price=0.001811, entryTime=1688290432067282.2, eventTime=1688290432067282.2), 1688293721808686.0: Trade(trade_id=206, order_id=208, side=-1, taker=True, amount=1, price=0.001937, entryTime=1688293721808686.0, eventTime=1688293721808686.0), 1688293722210360.2: Trade(trade_id=207, order_id=209, side=1, taker=True, amount=1, price=0.001938, entryTime=1688293722210360.2, eventTime=1688293722210360.2), 1688293845276616.8: Trade(trade_id=208, order_id=210, side=-1, taker=True, amount=1, price=0.001987, entryTime=1688293845276616.8, eventTime=1688293845276616.8), 1688293847376084.0: Trade(trade_id=209, order_id=211, side=1, taker=True, amount=1, price=0.001986, entryTime=1688293847376084.0, eventTime=1688293847376084.0), 1688298299781556.8: Trade(trade_id=210, order_id=212, side=-1, taker=True, amount=1, price=0.002061, entryTime=1688298299781556.8, eventTime=1688298299781556.8), 1688298302083205.8: Trade(trade_id=211, order_id=213, side=1, taker=True, amount=1, price=0.002061, entryTime=1688298302083205.8, eventTime=1688298302083205.8), 1688298613951826.2: Trade(trade_id=212, order_id=214, side=-1, taker=True, amount=1, price=0.002047, entryTime=1688298613951826.2, eventTime=1688298613951826.2), 1688298614754446.5: Trade(trade_id=213, order_id=215, side=1, taker=True, amount=1, price=0.002048, entryTime=1688298614754446.5, eventTime=1688298614754446.5), 1688298996760212.5: Trade(trade_id=214, order_id=216, side=-1, taker=True, amount=1, price=0.002019, entryTime=1688298996760212.5, eventTime=1688298996760212.5), 1688299000166314.0: Trade(trade_id=215, order_id=217, side=1, taker=True, amount=1, price=0.002018, entryTime=1688299000166314.0, eventTime=1688299000166314.0), 1688299157150882.5: Trade(trade_id=216, order_id=218, side=-1, taker=True, amount=1, price=0.002016, entryTime=1688299157150882.5, eventTime=1688299157150882.5), 1688299158249617.2: Trade(trade_id=217, order_id=219, side=1, taker=True, amount=1, price=0.002013, entryTime=1688299158249617.2, eventTime=1688299158249617.2), 1688301522905353.2: Trade(trade_id=218, order_id=220, side=-1, taker=True, amount=1, price=0.00201, entryTime=1688301522905353.2, eventTime=1688301522905353.2), 1688301523709349.5: Trade(trade_id=219, order_id=221, side=1, taker=True, amount=1, price=0.00201, entryTime=1688301523709349.5, eventTime=1688301523709349.5), 1688304390954416.0: Trade(trade_id=220, order_id=222, side=-1, taker=True, amount=1, price=0.002023, entryTime=1688304390954416.0, eventTime=1688304390954416.0), 1688304392060150.0: Trade(trade_id=221, order_id=223, side=1, taker=True, amount=1, price=0.002022, entryTime=1688304392060150.0, eventTime=1688304392060150.0), 1688310160335994.8: Trade(trade_id=222, order_id=224, side=-1, taker=True, amount=1, price=0.002053, entryTime=1688310160335994.8, eventTime=1688310160335994.8), 1688310162536658.8: Trade(trade_id=223, order_id=225, side=1, taker=True, amount=1, price=0.002054, entryTime=1688310162536658.8, eventTime=1688310162536658.8), 1688313496502317.5: Trade(trade_id=224, order_id=226, side=-1, taker=True, amount=1, price=0.002021, entryTime=1688313496502317.5, eventTime=1688313496502317.5), 1688313497102374.8: Trade(trade_id=225, order_id=227, side=1, taker=True, amount=1, price=0.002019, entryTime=1688313497102374.8, eventTime=1688313497102374.8), 1688342733732212.0: Trade(trade_id=226, order_id=228, side=-1, taker=True, amount=1, price=0.002224, entryTime=1688342733732212.0, eventTime=1688342733732212.0), 1688342733839225.8: Trade(trade_id=227, order_id=229, side=1, taker=True, amount=1, price=0.002223, entryTime=1688342733839225.8, eventTime=1688342733839225.8), 1688343677522906.2: Trade(trade_id=228, order_id=230, side=-1, taker=True, amount=1, price=0.002218, entryTime=1688343677522906.2, eventTime=1688343677522906.2), 1688343677621685.0: Trade(trade_id=229, order_id=231, side=1, taker=True, amount=1, price=0.002218, entryTime=1688343677621685.0, eventTime=1688343677621685.0), 1688344299945640.0: Trade(trade_id=230, order_id=232, side=-1, taker=True, amount=1, price=0.002208, entryTime=1688344299945640.0, eventTime=1688344299945640.0), 1688344300943804.5: Trade(trade_id=231, order_id=233, side=1, taker=True, amount=1, price=0.002204, entryTime=1688344300943804.5, eventTime=1688344300943804.5), 1688345878686651.2: Trade(trade_id=232, order_id=234, side=-1, taker=True, amount=1, price=0.002254, entryTime=1688345878686651.2, eventTime=1688345878686651.2), 1688345879387406.5: Trade(trade_id=233, order_id=235, side=1, taker=True, amount=1, price=0.002254, entryTime=1688345879387406.5, eventTime=1688345879387406.5), 1688347884270539.8: Trade(trade_id=234, order_id=236, side=-1, taker=True, amount=1, price=0.002248, entryTime=1688347884270539.8, eventTime=1688347884270539.8), 1688347895178752.8: Trade(trade_id=235, order_id=237, side=1, taker=True, amount=1, price=0.002248, entryTime=1688347895178752.8, eventTime=1688347895178752.8), 1688348544913593.8: Trade(trade_id=236, order_id=238, side=-1, taker=True, amount=1, price=0.00222, entryTime=1688348544913593.8, eventTime=1688348544913593.8), 1688348545513828.0: Trade(trade_id=237, order_id=239, side=1, taker=True, amount=1, price=0.002219, entryTime=1688348545513828.0, eventTime=1688348545513828.0), 1688361913892796.0: Trade(trade_id=238, order_id=240, side=-1, taker=True, amount=1, price=0.002109, entryTime=1688361913892796.0, eventTime=1688361913892796.0), 1688361917695378.8: Trade(trade_id=239, order_id=241, side=1, taker=True, amount=1, price=0.00211, entryTime=1688361917695378.8, eventTime=1688361917695378.8), 1688375808446103.2: Trade(trade_id=240, order_id=242, side=-1, taker=True, amount=1, price=0.002108, entryTime=1688375808446103.2, eventTime=1688375808446103.2), 1688375822156039.5: Trade(trade_id=241, order_id=243, side=1, taker=True, amount=1, price=0.00211, entryTime=1688375822156039.5, eventTime=1688375822156039.5), 1688385314670465.5: Trade(trade_id=242, order_id=244, side=-1, taker=True, amount=1, price=0.002029, entryTime=1688385314670465.5, eventTime=1688385314670465.5), 1688385315571357.2: Trade(trade_id=243, order_id=245, side=1, taker=True, amount=1, price=0.002027, entryTime=1688385315571357.2, eventTime=1688385315571357.2), 1688386611124056.0: Trade(trade_id=244, order_id=246, side=-1, taker=True, amount=1, price=0.002004, entryTime=1688386611124056.0, eventTime=1688386611124056.0), 1688386611221919.5: Trade(trade_id=245, order_id=247, side=1, taker=True, amount=1, price=0.002005, entryTime=1688386611221919.5, eventTime=1688386611221919.5), 1688390212864262.2: Trade(trade_id=246, order_id=248, side=-1, taker=True, amount=1, price=0.002041, entryTime=1688390212864262.2, eventTime=1688390212864262.2), 1688390217566116.2: Trade(trade_id=247, order_id=249, side=1, taker=True, amount=1, price=0.002041, entryTime=1688390217566116.2, eventTime=1688390217566116.2), 1688390961857454.2: Trade(trade_id=248, order_id=250, side=-1, taker=True, amount=1, price=0.002027, entryTime=1688390961857454.2, eventTime=1688390961857454.2), 1688390962651606.2: Trade(trade_id=249, order_id=251, side=1, taker=True, amount=1, price=0.002027, entryTime=1688390962651606.2, eventTime=1688390962651606.2), 1688396929677718.5: Trade(trade_id=250, order_id=252, side=-1, taker=True, amount=1, price=0.00205, entryTime=1688396929677718.5, eventTime=1688396929677718.5), 1688396929974986.0: Trade(trade_id=251, order_id=253, side=1, taker=True, amount=1, price=0.00205, entryTime=1688396929974986.0, eventTime=1688396929974986.0), 1688434505756257.2: Trade(trade_id=252, order_id=254, side=-1, taker=True, amount=1, price=0.001996, entryTime=1688434505756257.2, eventTime=1688434505756257.2), 1688434506553133.5: Trade(trade_id=253, order_id=255, side=1, taker=True, amount=1, price=0.001996, entryTime=1688434506553133.5, eventTime=1688434506553133.5), 1688438946775383.0: Trade(trade_id=254, order_id=256, side=-1, taker=True, amount=1, price=0.001968, entryTime=1688438946775383.0, eventTime=1688438946775383.0), 1688438947779985.0: Trade(trade_id=255, order_id=257, side=1, taker=True, amount=1, price=0.001967, entryTime=1688438947779985.0, eventTime=1688438947779985.0), 1688449069385336.0: Trade(trade_id=256, order_id=258, side=-1, taker=True, amount=1, price=0.002229, entryTime=1688449069385336.0, eventTime=1688449069385336.0), 1688449072386421.8: Trade(trade_id=257, order_id=259, side=1, taker=True, amount=1, price=0.002226, entryTime=1688449072386421.8, eventTime=1688449072386421.8), 1688452582003691.8: Trade(trade_id=258, order_id=260, side=-1, taker=True, amount=1, price=0.002076, entryTime=1688452582003691.8, eventTime=1688452582003691.8), 1688452582405262.8: Trade(trade_id=259, order_id=261, side=1, taker=True, amount=1, price=0.002076, entryTime=1688452582405262.8, eventTime=1688452582405262.8), 1688488041295846.5: Trade(trade_id=260, order_id=262, side=-1, taker=True, amount=1, price=0.002075, entryTime=1688488041295846.5, eventTime=1688488041295846.5), 1688488042198548.8: Trade(trade_id=261, order_id=263, side=1, taker=True, amount=1, price=0.002075, entryTime=1688488042198548.8, eventTime=1688488042198548.8), 1688498119970959.8: Trade(trade_id=262, order_id=264, side=-1, taker=True, amount=1, price=0.002069, entryTime=1688498119970959.8, eventTime=1688498119970959.8), 1688498123471839.2: Trade(trade_id=263, order_id=265, side=1, taker=True, amount=1, price=0.002066, entryTime=1688498123471839.2, eventTime=1688498123471839.2), 1688499712846206.2: Trade(trade_id=264, order_id=266, side=-1, taker=True, amount=1, price=0.002076, entryTime=1688499712846206.2, eventTime=1688499712846206.2), 1688499713650812.0: Trade(trade_id=265, order_id=267, side=1, taker=True, amount=1, price=0.002076, entryTime=1688499713650812.0, eventTime=1688499713650812.0), 1688506500109706.0: Trade(trade_id=266, order_id=268, side=-1, taker=True, amount=1, price=0.002059, entryTime=1688506500109706.0, eventTime=1688506500109706.0), 1688506500206142.0: Trade(trade_id=267, order_id=269, side=1, taker=True, amount=1, price=0.002059, entryTime=1688506500206142.0, eventTime=1688506500206142.0), 1688520138412776.5: Trade(trade_id=268, order_id=270, side=-1, taker=True, amount=1, price=0.002104, entryTime=1688520138412776.5, eventTime=1688520138412776.5), 1688520138606624.0: Trade(trade_id=269, order_id=271, side=1, taker=True, amount=1, price=0.002102, entryTime=1688520138606624.0, eventTime=1688520138606624.0), 1688545324772364.8: Trade(trade_id=270, order_id=272, side=-1, taker=True, amount=1, price=0.00202, entryTime=1688545324772364.8, eventTime=1688545324772364.8), 1688545325574073.8: Trade(trade_id=271, order_id=273, side=1, taker=True, amount=1, price=0.00202, entryTime=1688545325574073.8, eventTime=1688545325574073.8), 1688553228092304.5: Trade(trade_id=272, order_id=274, side=-1, taker=True, amount=1, price=0.001944, entryTime=1688553228092304.5, eventTime=1688553228092304.5), 1688553230096208.5: Trade(trade_id=273, order_id=275, side=1, taker=True, amount=1, price=0.001944, entryTime=1688553230096208.5, eventTime=1688553230096208.5), 1688554884126526.2: Trade(trade_id=274, order_id=276, side=-1, taker=True, amount=1, price=0.001919, entryTime=1688554884126526.2, eventTime=1688554884126526.2), 1688554886129444.0: Trade(trade_id=275, order_id=277, side=1, taker=True, amount=1, price=0.001919, entryTime=1688554886129444.0, eventTime=1688554886129444.0), 1688554940959549.8: Trade(trade_id=276, order_id=278, side=-1, taker=True, amount=1, price=0.001921, entryTime=1688554940959549.8, eventTime=1688554940959549.8), 1688554943660596.8: Trade(trade_id=277, order_id=279, side=1, taker=True, amount=1, price=0.001921, entryTime=1688554943660596.8, eventTime=1688554943660596.8), 1688558648931508.2: Trade(trade_id=278, order_id=280, side=-1, taker=True, amount=1, price=0.00191, entryTime=1688558648931508.2, eventTime=1688558648931508.2), 1688558649033738.5: Trade(trade_id=279, order_id=281, side=1, taker=True, amount=1, price=0.001909, entryTime=1688558649033738.5, eventTime=1688558649033738.5), 1688559847309309.2: Trade(trade_id=280, order_id=282, side=-1, taker=True, amount=1, price=0.001926, entryTime=1688559847309309.2, eventTime=1688559847309309.2), 1688559849107527.0: Trade(trade_id=281, order_id=283, side=1, taker=True, amount=1, price=0.001926, entryTime=1688559849107527.0, eventTime=1688559849107527.0), 1688568881444176.8: Trade(trade_id=282, order_id=284, side=-1, taker=True, amount=1, price=0.001876, entryTime=1688568881444176.8, eventTime=1688568881444176.8), 1688568888448520.0: Trade(trade_id=283, order_id=285, side=1, taker=True, amount=1, price=0.00188, entryTime=1688568888448520.0, eventTime=1688568888448520.0), 1688569379302801.2: Trade(trade_id=284, order_id=286, side=-1, taker=True, amount=1, price=0.00184, entryTime=1688569379302801.2, eventTime=1688569379302801.2), 1688569381305243.0: Trade(trade_id=285, order_id=287, side=1, taker=True, amount=1, price=0.001839, entryTime=1688569381305243.0, eventTime=1688569381305243.0), 1688569575105231.0: Trade(trade_id=286, order_id=288, side=-1, taker=True, amount=1, price=0.00184, entryTime=1688569575105231.0, eventTime=1688569575105231.0), 1688569576009723.0: Trade(trade_id=287, order_id=289, side=1, taker=True, amount=1, price=0.001839, entryTime=1688569576009723.0, eventTime=1688569576009723.0), 1688569883858745.0: Trade(trade_id=288, order_id=290, side=-1, taker=True, amount=1, price=0.001836, entryTime=1688569883858745.0, eventTime=1688569883858745.0), 1688569886660852.0: Trade(trade_id=289, order_id=291, side=1, taker=True, amount=1, price=0.001836, entryTime=1688569886660852.0, eventTime=1688569886660852.0), 1688570921569557.5: Trade(trade_id=290, order_id=292, side=-1, taker=True, amount=1, price=0.001836, entryTime=1688570921569557.5, eventTime=1688570921569557.5), 1688570922366595.0: Trade(trade_id=291, order_id=293, side=1, taker=True, amount=1, price=0.001836, entryTime=1688570922366595.0, eventTime=1688570922366595.0), 1688573659207848.2: Trade(trade_id=292, order_id=294, side=-1, taker=True, amount=1, price=0.001875, entryTime=1688573659207848.2, eventTime=1688573659207848.2), 1688573660115507.5: Trade(trade_id=293, order_id=295, side=1, taker=True, amount=1, price=0.001873, entryTime=1688573660115507.5, eventTime=1688573660115507.5), 1688574928868778.0: Trade(trade_id=294, order_id=296, side=-1, taker=True, amount=1, price=0.001912, entryTime=1688574928868778.0, eventTime=1688574928868778.0), 1688574928966976.2: Trade(trade_id=295, order_id=297, side=1, taker=True, amount=1, price=0.001912, entryTime=1688574928966976.2, eventTime=1688574928966976.2), 1688577731349944.5: Trade(trade_id=296, order_id=298, side=-1, taker=True, amount=1, price=0.001916, entryTime=1688577731349944.5, eventTime=1688577731349944.5), 1688577731451636.5: Trade(trade_id=297, order_id=299, side=1, taker=True, amount=1, price=0.001916, entryTime=1688577731451636.5, eventTime=1688577731451636.5)})"
      ]
     },
     "execution_count": 56,
     "metadata": {},
     "output_type": "execute_result"
    }
   ],
   "source": [
    "exchg.trades"
   ]
  },
  {
   "cell_type": "code",
   "execution_count": 57,
   "metadata": {},
   "outputs": [
    {
     "data": {
      "text/plain": [
       "{'COMP': -97, 'BTC': 0.29521803580000006}"
      ]
     },
     "execution_count": 57,
     "metadata": {},
     "output_type": "execute_result"
    }
   ],
   "source": [
    "exchg.balance"
   ]
  },
  {
   "cell_type": "code",
   "execution_count": 14,
   "metadata": {},
   "outputs": [],
   "source": [
    "exchg.limit_order('COMPBTC', 20, 0.001712, 1)\n",
    "exchg.limit_order('COMPBTC', 10, 0.001718, 0)"
   ]
  },
  {
   "cell_type": "code",
   "execution_count": 35,
   "metadata": {},
   "outputs": [
    {
     "name": "stdout",
     "output_type": "stream",
     "text": [
      "Bid: 0.001717 | 0.001718 :Ask\n",
      "Open Buy Orders\n",
      "0.001712 @ 20\n",
      "Open Sell Orders\n",
      "Bid: 0.001717 | 0.001718 :Ask\n",
      "Open Buy Orders\n",
      "0.001712 @ 20\n",
      "Open Sell Orders\n",
      "Bid: 0.001717 | 0.001718 :Ask\n",
      "Open Buy Orders\n",
      "0.001712 @ 20\n",
      "Open Sell Orders\n",
      "Bid: 0.001717 | 0.001718 :Ask\n",
      "Open Buy Orders\n",
      "0.001712 @ 20\n",
      "Open Sell Orders\n",
      "Bid: 0.001717 | 0.001718 :Ask\n",
      "Open Buy Orders\n",
      "0.001712 @ 20\n",
      "Open Sell Orders\n"
     ]
    }
   ],
   "source": [
    "for i in range(5):\n",
    "    exchg._simulation_step()"
   ]
  },
  {
   "cell_type": "code",
   "execution_count": null,
   "metadata": {},
   "outputs": [],
   "source": []
  }
 ],
 "metadata": {
  "kernelspec": {
   "display_name": "base",
   "language": "python",
   "name": "python3"
  },
  "language_info": {
   "codemirror_mode": {
    "name": "ipython",
    "version": 3
   },
   "file_extension": ".py",
   "mimetype": "text/x-python",
   "name": "python",
   "nbconvert_exporter": "python",
   "pygments_lexer": "ipython3",
   "version": "3.11.3"
  },
  "orig_nbformat": 4
 },
 "nbformat": 4,
 "nbformat_minor": 2
}
