{
 "cells": [
  {
   "cell_type": "code",
   "execution_count": 101,
   "metadata": {},
   "outputs": [
    {
     "name": "stdout",
     "output_type": "stream",
     "text": [
      "The autoreload extension is already loaded. To reload it, use:\n",
      "  %reload_ext autoreload\n"
     ]
    }
   ],
   "source": [
    "from src.exchange import OHLCExchange\n",
    "\n",
    "import pandas as pd\n",
    "import numpy as np\n",
    "from data_loader.binance_ohlc import fetch_data\n",
    "from datetime import datetime, timedelta\n",
    "\n",
    "%load_ext autoreload \n",
    "%autoreload 2"
   ]
  },
  {
   "cell_type": "code",
   "execution_count": 69,
   "metadata": {},
   "outputs": [],
   "source": [
    "symbols = [\n",
    "    'BTCUSDT', 'ETHUSDT', 'XRPUSDT', 'XMRUSDT', 'ETCUSDT', \n",
    "    'BCHUSDT', 'LTCUSDT', 'SOLUSDT', 'BNBUSDT', 'COMPUSDT', \n",
    "    'FLOWUSDT', 'INJUSDT', 'MATICUSDT', 'ADAUSDT', 'TRXUSDT', \n",
    "    'DOTUSDT', 'AVAXUSDT', 'UNIUSDT', 'LINKUSDT', 'RNDRUSDT', \n",
    "    'XLMUSDT', 'ATOMUSDT', 'AXSUSDT', 'LDOUSDT', 'HBARUSDT', \n",
    "    'FILUSDT', 'APTUSDT', 'ARBUSDT', 'NEARUSDT', 'AAVEUSDT', \n",
    "    'OPUSDT', 'EOSUSDT', 'SANDUSDT', 'MKRUSDT', 'MANAUSDT']\n",
    "interval = '1h'\n",
    "start = datetime(2023, 5, 1)\n",
    "end = datetime(2023, 7, 1)"
   ]
  },
  {
   "cell_type": "code",
   "execution_count": 70,
   "metadata": {},
   "outputs": [],
   "source": [
    "def prepare_ts(symbol, interval, start, end):\n",
    "    df = fetch_data(symbol, interval, start, end)\n",
    "\n",
    "    columns = ['open_ts', 'open', 'high', 'low', 'close', 'amount', 'close_ts', 'volume', 'trades', 'buy_amount', 'buy_volume', 'ignore']\n",
    "    df = pd.DataFrame(df, columns=columns)\n",
    "\n",
    "    for i in ['open', 'high', 'low', 'close', 'amount', 'volume', 'buy_amount', 'buy_volume']:\n",
    "        df[i] = df[i].astype('float')\n",
    "\n",
    "    return df"
   ]
  },
  {
   "cell_type": "code",
   "execution_count": 151,
   "metadata": {},
   "outputs": [
    {
     "name": "stdout",
     "output_type": "stream",
     "text": [
      "BTCUSDT\n",
      "ETHUSDT\n",
      "XRPUSDT\n",
      "XMRUSDT\n",
      "ETCUSDT\n",
      "BCHUSDT\n",
      "LTCUSDT\n",
      "SOLUSDT\n",
      "BNBUSDT\n",
      "COMPUSDT\n",
      "FLOWUSDT\n",
      "INJUSDT\n",
      "MATICUSDT\n",
      "ADAUSDT\n",
      "TRXUSDT\n",
      "DOTUSDT\n",
      "AVAXUSDT\n",
      "UNIUSDT\n",
      "LINKUSDT\n",
      "RNDRUSDT\n",
      "XLMUSDT\n",
      "ATOMUSDT\n",
      "AXSUSDT\n",
      "LDOUSDT\n",
      "HBARUSDT\n",
      "FILUSDT\n",
      "APTUSDT\n",
      "ARBUSDT\n",
      "NEARUSDT\n",
      "AAVEUSDT\n",
      "OPUSDT\n",
      "EOSUSDT\n",
      "SANDUSDT\n",
      "MKRUSDT\n",
      "MANAUSDT\n"
     ]
    }
   ],
   "source": [
    "df = {}\n",
    "\n",
    "for symbol in symbols: \n",
    "    print(symbol)\n",
    "    df[symbol] = prepare_ts(symbol, interval, start, end).drop_duplicates()\n",
    "    df[symbol].index = pd.to_datetime(df[symbol].index, unit='ms')"
   ]
  },
  {
   "cell_type": "code",
   "execution_count": 152,
   "metadata": {},
   "outputs": [],
   "source": [
    "def alpha_118(df):\n",
    "    t = (((df.close - df.low) - (df.high - df.close)) / (df.close - df.low))\n",
    "    return -(t - t.shift(5))\n",
    "    #alpha = pd.DataFrame(-(t - t.shift(5)), columns=['BTCUSDT'])"
   ]
  },
  {
   "cell_type": "code",
   "execution_count": null,
   "metadata": {},
   "outputs": [],
   "source": [
    "neg(\n",
    "    delta_5(\n",
    "        div(\n",
    "            minus(\n",
    "                minus(close,low),\n",
    "                minus(high,close)\n",
    "            ),\n",
    "            minus(close,low)\n",
    "        )\n",
    "    )\n",
    ")"
   ]
  },
  {
   "cell_type": "code",
   "execution_count": 153,
   "metadata": {},
   "outputs": [],
   "source": [
    "alpha = pd.DataFrame()\n",
    "\n",
    "for symbol in symbols: \n",
    "    alpha[symbol] = alpha_118(df[symbol])"
   ]
  },
  {
   "cell_type": "code",
   "execution_count": 154,
   "metadata": {},
   "outputs": [],
   "source": [
    "alpha.index = df['BTCUSDT'].close_ts\n",
    "alpha.index = pd.to_datetime(alpha.index, unit='ms')\n",
    "alpha.dropna(inplace=True)"
   ]
  },
  {
   "cell_type": "code",
   "execution_count": 155,
   "metadata": {},
   "outputs": [],
   "source": [
    "ranks = np.ceil(alpha.rank(axis=1, pct=True).mul(5)).astype('Int64')"
   ]
  },
  {
   "cell_type": "code",
   "execution_count": 156,
   "metadata": {},
   "outputs": [],
   "source": [
    "open = pd.DataFrame()\n",
    "close = pd.DataFrame()\n",
    "\n",
    "for symbol in symbols: \n",
    "    close[symbol] = df[symbol].close\n",
    "    open[symbol] = df[symbol].open\n",
    "\n",
    "open.index = df['BTCUSDT'].close_ts\n",
    "open.index = pd.to_datetime(open.index, unit='ms')\n",
    "open.dropna(inplace=True)\n",
    "\n",
    "close.index = df['BTCUSDT'].close_ts\n",
    "close.index = pd.to_datetime(close.index, unit='ms')\n",
    "close.dropna(inplace=True)"
   ]
  },
  {
   "cell_type": "code",
   "execution_count": 169,
   "metadata": {},
   "outputs": [
    {
     "name": "stdout",
     "output_type": "stream",
     "text": [
      "1\n",
      "2\n",
      "3\n",
      "4\n",
      "5\n"
     ]
    }
   ],
   "source": [
    "ret = pd.DataFrame(index=ranks.index)\n",
    "\n",
    "for i in range(1, 6):\n",
    "    print(i)\n",
    "    tmp = ranks[ranks == i]\n",
    "    returns = []\n",
    "\n",
    "    for ts in tmp.index: \n",
    "        relevant_markets = tmp.loc[ts].dropna().index\n",
    "\n",
    "        if ts < tmp.index[-3]:\n",
    "            tmp_ret = (open.loc[ts + timedelta(hours=1), relevant_markets] / open.loc[ts + timedelta(hours=2), relevant_markets]) - 1\n",
    "            tmp_ret = float((tmp_ret / len(tmp_ret)).sum())\n",
    "\n",
    "            returns += [tmp_ret]\n",
    "        else: \n",
    "            returns += [0]\n",
    "    \n",
    "    ret['q'+str(i)] = returns"
   ]
  },
  {
   "cell_type": "code",
   "execution_count": 180,
   "metadata": {},
   "outputs": [],
   "source": [
    "c_agg = (1 + ret['q1'] + ret['q2'] - ret['q4'] - ret['q5']).cumprod()"
   ]
  },
  {
   "cell_type": "code",
   "execution_count": 181,
   "metadata": {},
   "outputs": [
    {
     "data": {
      "text/plain": [
       "<AxesSubplot: xlabel='close_ts'>"
      ]
     },
     "execution_count": 181,
     "metadata": {},
     "output_type": "execute_result"
    },
    {
     "data": {
      "image/png": "[encoded data removed]",
      "text/plain": [
       "<Figure size 432x288 with 1 Axes>"
      ]
     },
     "metadata": {
      "needs_background": "light"
     },
     "output_type": "display_data"
    }
   ],
   "source": [
    "c_agg.plot()"
   ]
  },
  {
   "cell_type": "code",
   "execution_count": null,
   "metadata": {},
   "outputs": [],
   "source": []
  }
 ],
 "metadata": {
  "kernelspec": {
   "display_name": "base",
   "language": "python",
   "name": "python3"
  },
  "language_info": {
   "codemirror_mode": {
    "name": "ipython",
    "version": 3
   },
   "file_extension": ".py",
   "mimetype": "text/x-python",
   "name": "python",
   "nbconvert_exporter": "python",
   "pygments_lexer": "ipython3",
   "version": "3.8.5"
  },
  "orig_nbformat": 4
 },
 "nbformat": 4,
 "nbformat_minor": 2
}
