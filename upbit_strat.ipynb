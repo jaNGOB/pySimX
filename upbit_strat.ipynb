{
 "cells": [
  {
   "cell_type": "code",
   "execution_count": 43,
   "metadata": {},
   "outputs": [
    {
     "name": "stdout",
     "output_type": "stream",
     "text": [
      "The autoreload extension is already loaded. To reload it, use:\n",
      "  %reload_ext autoreload\n"
     ]
    }
   ],
   "source": [
    "import os \n",
    "import pandas as pd\n",
    "from tqdm import tqdm\n",
    "import numpy as np\n",
    "\n",
    "from src.data_types import TOB, Order\n",
    "from src.exchange import TOB_Exchange\n",
    "\n",
    "%load_ext autoreload \n",
    "%autoreload 2"
   ]
  },
  {
   "cell_type": "code",
   "execution_count": 2,
   "metadata": {},
   "outputs": [
    {
     "data": {
      "text/plain": [
       "['binance_quotes_2023-07-02_COMPBTC.csv.gz',\n",
       " 'binance_quotes_2023-07-05_COMPBTC.csv.gz',\n",
       " 'binance_quotes_2023-07-04_COMPBTC.csv.gz',\n",
       " 'binance_quotes_2023-07-03_COMPBTC.csv.gz']"
      ]
     },
     "execution_count": 2,
     "metadata": {},
     "output_type": "execute_result"
    }
   ],
   "source": [
    "# define folder path\n",
    "# folder_path = 'C:/Users/gobel/code/research_env/keyrock/bi-repo/data/tardis/datasets/'\n",
    "folder_path = '/Users/jan-gobeli/Code/bi-repo/data/tardis/datasets/'\n",
    "# folder_path = '/Users/nick-kokkaliaris/Desktop/Keyrock/Keyrock/Tardis Playground/datasets/'\n",
    "files_list = [\n",
    "    f for f in os.listdir(folder_path) if os.path.isfile(os.path.join(folder_path, f)) \n",
    "    and f.split('_')[0] == 'binance' \n",
    "    and f.split('_')[-1] == 'COMPBTC.csv.gz'\n",
    "    #and f.split('_')[-2] == 'OG'\n",
    "    and f.split('_')[1] == 'quotes']\n",
    "files_list"
   ]
  },
  {
   "cell_type": "code",
   "execution_count": 3,
   "metadata": {},
   "outputs": [],
   "source": [
    "bin_trades = [\n",
    "    f for f in os.listdir(folder_path) if os.path.isfile(os.path.join(folder_path, f)) \n",
    "    and f.split('_')[0] == 'binance' \n",
    "    and f.split('_')[-1] == 'COMPBTC.csv.gz'\n",
    "    #and f.split('_')[-2] == 'OG'\n",
    "    and f.split('_')[1] == 'trades']\n",
    "u_trades = [\n",
    "    f for f in os.listdir(folder_path) if os.path.isfile(os.path.join(folder_path, f)) \n",
    "    and f.split('_')[0] == 'upbit' \n",
    "    and f.split('_')[-1] == 'BTC-COMP.csv.gz'\n",
    "    #and f.split('_')[-2] == 'OG'\n",
    "    and f.split('_')[1] == 'trades']\n",
    "ufiles_list = [\n",
    "    f for f in os.listdir(folder_path) if os.path.isfile(os.path.join(folder_path, f)) \n",
    "    and f.split('_')[0] == 'upbit' \n",
    "    and f.split('_')[-1] == 'BTC-COMP.csv.gz'\n",
    "    #and f.split('_')[-2] == 'OG'\n",
    "    and f.split('_')[1] == 'quotes']"
   ]
  },
  {
   "cell_type": "code",
   "execution_count": 4,
   "metadata": {},
   "outputs": [],
   "source": [
    "def get_data(files_list):\n",
    "    df = pd.DataFrame()\n",
    "    # Use a loop to get all the csv.gz files from the path location in a single Dataframe\n",
    "    for csv_file in tqdm(files_list):\n",
    "        file_name = (folder_path + csv_file)\n",
    "        if file_name[-2:] == \"gz\":\n",
    "            df1 = pd.read_csv(file_name, compression='gzip')\n",
    "            # Concatenate all the dataframes into a single dataframe\n",
    "            df = pd.concat([df, df1], ignore_index=True)\n",
    "    return df"
   ]
  },
  {
   "cell_type": "code",
   "execution_count": 5,
   "metadata": {},
   "outputs": [
    {
     "name": "stderr",
     "output_type": "stream",
     "text": [
      "  0%|          | 0/4 [00:00<?, ?it/s]"
     ]
    },
    {
     "name": "stderr",
     "output_type": "stream",
     "text": [
      "100%|██████████| 4/4 [00:00<00:00, 11.92it/s]\n",
      "100%|██████████| 4/4 [00:00<00:00, 16.52it/s]\n",
      "100%|██████████| 4/4 [00:00<00:00, 221.81it/s]\n",
      "100%|██████████| 4/4 [00:00<00:00, 49.70it/s]\n"
     ]
    }
   ],
   "source": [
    "upbit = get_data(ufiles_list)\n",
    "binance = get_data(files_list)\n",
    "\n",
    "upbit_t = get_data(u_trades)\n",
    "binance_t = get_data(bin_trades)"
   ]
  },
  {
   "cell_type": "code",
   "execution_count": 6,
   "metadata": {},
   "outputs": [],
   "source": [
    "binance['time'] = pd.to_datetime(binance.timestamp, unit='us')\n",
    "upbit['time'] = pd.to_datetime(upbit.timestamp, unit='us')\n",
    "binance_t['time'] = pd.to_datetime(binance_t.timestamp, unit='us')\n",
    "upbit_t['time'] = pd.to_datetime(upbit_t.timestamp, unit='us')\n",
    "\n",
    "binance.set_index('time', inplace=True)\n",
    "upbit.set_index('time', inplace=True)\n",
    "binance_t.set_index('time', inplace=True)\n",
    "upbit_t.set_index('time', inplace=True)"
   ]
  },
  {
   "cell_type": "code",
   "execution_count": 7,
   "metadata": {},
   "outputs": [],
   "source": [
    "binance_t = binance_t[['timestamp', 'side', 'price', 'amount']].groupby(['timestamp', 'side', 'price']).sum().reset_index()"
   ]
  },
  {
   "cell_type": "markdown",
   "metadata": {},
   "source": [
    "Updates: \n",
    "- 1: bid quantity update \n",
    "- 2: new top bid \n",
    "- 3: new top ask \n",
    "- 4: ask quantity update \n",
    "- 5: complete update"
   ]
  },
  {
   "cell_type": "code",
   "execution_count": 38,
   "metadata": {},
   "outputs": [],
   "source": [
    "binance['latency'] = binance.local_timestamp - binance.timestamp"
   ]
  },
  {
   "cell_type": "code",
   "execution_count": 67,
   "metadata": {},
   "outputs": [
    {
     "data": {
      "text/plain": [
       "0.2902754220552034"
      ]
     },
     "execution_count": 67,
     "metadata": {},
     "output_type": "execute_result"
    }
   ],
   "source": [
    "binance.latency.std() / binance.latency.mean()"
   ]
  },
  {
   "cell_type": "code",
   "execution_count": 68,
   "metadata": {},
   "outputs": [],
   "source": [
    "lst = binance[['timestamp', 'bid_amount', 'bid_price', 'ask_price', 'ask_amount']].sort_values('timestamp').to_numpy()\n",
    "\n",
    "exchg = TOB_Exchange(latency=[5000, 0.29])\n",
    "exchg.load_tob(lst, 'COMPBTC')"
   ]
  },
  {
   "cell_type": "code",
   "execution_count": 14,
   "metadata": {},
   "outputs": [],
   "source": [
    "exchg.limit_order('COMPBTC', 20, 0.001712, 1)\n",
    "exchg.limit_order('COMPBTC', 10, 0.001718, 0)"
   ]
  },
  {
   "cell_type": "code",
   "execution_count": 35,
   "metadata": {},
   "outputs": [
    {
     "name": "stdout",
     "output_type": "stream",
     "text": [
      "Bid: 0.001717 | 0.001718 :Ask\n",
      "Open Buy Orders\n",
      "0.001712 @ 20\n",
      "Open Sell Orders\n",
      "Bid: 0.001717 | 0.001718 :Ask\n",
      "Open Buy Orders\n",
      "0.001712 @ 20\n",
      "Open Sell Orders\n",
      "Bid: 0.001717 | 0.001718 :Ask\n",
      "Open Buy Orders\n",
      "0.001712 @ 20\n",
      "Open Sell Orders\n",
      "Bid: 0.001717 | 0.001718 :Ask\n",
      "Open Buy Orders\n",
      "0.001712 @ 20\n",
      "Open Sell Orders\n",
      "Bid: 0.001717 | 0.001718 :Ask\n",
      "Open Buy Orders\n",
      "0.001712 @ 20\n",
      "Open Sell Orders\n"
     ]
    }
   ],
   "source": [
    "for i in range(5):\n",
    "    exchg._simulation_step()"
   ]
  },
  {
   "cell_type": "code",
   "execution_count": null,
   "metadata": {},
   "outputs": [],
   "source": []
  }
 ],
 "metadata": {
  "kernelspec": {
   "display_name": "base",
   "language": "python",
   "name": "python3"
  },
  "language_info": {
   "codemirror_mode": {
    "name": "ipython",
    "version": 3
   },
   "file_extension": ".py",
   "mimetype": "text/x-python",
   "name": "python",
   "nbconvert_exporter": "python",
   "pygments_lexer": "ipython3",
   "version": "3.11.3"
  },
  "orig_nbformat": 4
 },
 "nbformat": 4,
 "nbformat_minor": 2
}
