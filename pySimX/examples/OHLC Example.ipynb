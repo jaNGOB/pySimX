{
 "cells": [
  {
   "cell_type": "code",
   "execution_count": 20,
   "metadata": {},
   "outputs": [
    {
     "name": "stdout",
     "output_type": "stream",
     "text": [
      "The autoreload extension is already loaded. To reload it, use:\n",
      "  %reload_ext autoreload\n"
     ]
    }
   ],
   "source": [
    "import os \n",
    "import pandas as pd\n",
    "import polars as pl\n",
    "import numpy as np\n",
    "from tqdm import tqdm\n",
    "import math \n",
    "\n",
    "from itertools import combinations\n",
    "import matplotlib.pyplot as plt\n",
    "\n",
    "from sortedcontainers import SortedList\n",
    "from datetime import datetime\n",
    "\n",
    "# Import package\n",
    "import os, sys\n",
    "parent_dir = os.path.abspath('..')\n",
    "if parent_dir not in sys.path:\n",
    "    sys.path.append(parent_dir)\n",
    "from src.exchange import OHLCExchange\n",
    "from src.data_types import OHLCV\n",
    "\n",
    "from sortedcontainers import SortedDict\n",
    "\n",
    "%load_ext autoreload \n",
    "%autoreload 2"
   ]
  },
  {
   "cell_type": "code",
   "execution_count": 21,
   "metadata": {},
   "outputs": [],
   "source": [
    "events = SortedDict()"
   ]
  },
  {
   "cell_type": "code",
   "execution_count": 24,
   "metadata": {},
   "outputs": [],
   "source": [
    "df = pl.read_csv('data_loader/datasets/binance_btcusdt_30m_2023-09-01_2023-10-01.csv')\n",
    "df = df.select(pl.col(['time_start', 'open', 'high', 'low', 'close', 'quote_volume']))"
   ]
  },
  {
   "cell_type": "code",
   "execution_count": 30,
   "metadata": {},
   "outputs": [],
   "source": [
    "i = df.to_numpy()[0]"
   ]
  },
  {
   "cell_type": "code",
   "execution_count": 32,
   "metadata": {},
   "outputs": [
    {
     "data": {
      "text/html": [
       "<div><style>\n",
       ".dataframe > thead > tr > th,\n",
       ".dataframe > tbody > tr > td {\n",
       "  text-align: right;\n",
       "  white-space: pre-wrap;\n",
       "}\n",
       "</style>\n",
       "<small>shape: (5, 6)</small><table border=\"1\" class=\"dataframe\"><thead><tr><th>time_start</th><th>open</th><th>high</th><th>low</th><th>close</th><th>quote_volume</th></tr><tr><td>i64</td><td>f64</td><td>f64</td><td>f64</td><td>f64</td><td>f64</td></tr></thead><tbody><tr><td>1693515600000</td><td>26007.4</td><td>26019.6</td><td>25617.8</td><td>25914.8</td><td>1.0588e9</td></tr><tr><td>1693517400000</td><td>25914.8</td><td>26027.9</td><td>25886.2</td><td>26013.0</td><td>1.7022e8</td></tr><tr><td>1693519200000</td><td>26013.0</td><td>26024.7</td><td>25960.7</td><td>25985.4</td><td>1.2797e8</td></tr><tr><td>1693521000000</td><td>25985.4</td><td>26059.2</td><td>25981.5</td><td>26042.8</td><td>8.9764e7</td></tr><tr><td>1693522800000</td><td>26042.8</td><td>26047.3</td><td>25934.3</td><td>25940.1</td><td>9.2052e7</td></tr></tbody></table></div>"
      ],
      "text/plain": [
       "shape: (5, 6)\n",
       "┌───────────────┬─────────┬─────────┬─────────┬─────────┬──────────────┐\n",
       "│ time_start    ┆ open    ┆ high    ┆ low     ┆ close   ┆ quote_volume │\n",
       "│ ---           ┆ ---     ┆ ---     ┆ ---     ┆ ---     ┆ ---          │\n",
       "│ i64           ┆ f64     ┆ f64     ┆ f64     ┆ f64     ┆ f64          │\n",
       "╞═══════════════╪═════════╪═════════╪═════════╪═════════╪══════════════╡\n",
       "│ 1693515600000 ┆ 26007.4 ┆ 26019.6 ┆ 25617.8 ┆ 25914.8 ┆ 1.0588e9     │\n",
       "│ 1693517400000 ┆ 25914.8 ┆ 26027.9 ┆ 25886.2 ┆ 26013.0 ┆ 1.7022e8     │\n",
       "│ 1693519200000 ┆ 26013.0 ┆ 26024.7 ┆ 25960.7 ┆ 25985.4 ┆ 1.2797e8     │\n",
       "│ 1693521000000 ┆ 25985.4 ┆ 26059.2 ┆ 25981.5 ┆ 26042.8 ┆ 8.9764e7     │\n",
       "│ 1693522800000 ┆ 26042.8 ┆ 26047.3 ┆ 25934.3 ┆ 25940.1 ┆ 9.2052e7     │\n",
       "└───────────────┴─────────┴─────────┴─────────┴─────────┴──────────────┘"
      ]
     },
     "execution_count": 32,
     "metadata": {},
     "output_type": "execute_result"
    }
   ],
   "source": [
    "df.head()"
   ]
  },
  {
   "cell_type": "code",
   "execution_count": 34,
   "metadata": {},
   "outputs": [
    {
     "data": {
      "text/plain": [
       "array([1.69351560e+12, 2.60074000e+04, 2.60196000e+04, 2.56178000e+04,\n",
       "       2.59148000e+04, 1.05881642e+09])"
      ]
     },
     "execution_count": 34,
     "metadata": {},
     "output_type": "execute_result"
    }
   ],
   "source": [
    "i"
   ]
  },
  {
   "cell_type": "code",
   "execution_count": 35,
   "metadata": {},
   "outputs": [
    {
     "data": {
      "text/plain": [
       "OHLCV(symbol='test', timestamp=1693515600000.0, open=26007.4, high=26019.6, low=25617.8, close=25914.8, volume=1058816418.30363)"
      ]
     },
     "execution_count": 35,
     "metadata": {},
     "output_type": "execute_result"
    }
   ],
   "source": [
    "OHLCV(symbol='test', timestamp=i[0], open=i[1], high=i[2], low=i[3], close=i[4], volume=i[5])"
   ]
  },
  {
   "cell_type": "code",
   "execution_count": 26,
   "metadata": {},
   "outputs": [
    {
     "data": {
      "text/html": [
       "<div><style>\n",
       ".dataframe > thead > tr > th,\n",
       ".dataframe > tbody > tr > td {\n",
       "  text-align: right;\n",
       "  white-space: pre-wrap;\n",
       "}\n",
       "</style>\n",
       "<small>shape: (1, 6)</small><table border=\"1\" class=\"dataframe\"><thead><tr><th>time_start</th><th>open</th><th>high</th><th>low</th><th>close</th><th>quote_volume</th></tr><tr><td>i64</td><td>f64</td><td>f64</td><td>f64</td><td>f64</td><td>f64</td></tr></thead><tbody><tr><td>1693515600000</td><td>26007.4</td><td>26019.6</td><td>25617.8</td><td>25914.8</td><td>1.0588e9</td></tr></tbody></table></div>"
      ],
      "text/plain": [
       "shape: (1, 6)\n",
       "┌───────────────┬─────────┬─────────┬─────────┬─────────┬──────────────┐\n",
       "│ time_start    ┆ open    ┆ high    ┆ low     ┆ close   ┆ quote_volume │\n",
       "│ ---           ┆ ---     ┆ ---     ┆ ---     ┆ ---     ┆ ---          │\n",
       "│ i64           ┆ f64     ┆ f64     ┆ f64     ┆ f64     ┆ f64          │\n",
       "╞═══════════════╪═════════╪═════════╪═════════╪═════════╪══════════════╡\n",
       "│ 1693515600000 ┆ 26007.4 ┆ 26019.6 ┆ 25617.8 ┆ 25914.8 ┆ 1.0588e9     │\n",
       "└───────────────┴─────────┴─────────┴─────────┴─────────┴──────────────┘"
      ]
     },
     "execution_count": 26,
     "metadata": {},
     "output_type": "execute_result"
    }
   ],
   "source": []
  },
  {
   "cell_type": "code",
   "execution_count": null,
   "metadata": {},
   "outputs": [],
   "source": [
    "for i in df: \n",
    "    "
   ]
  },
  {
   "cell_type": "code",
   "execution_count": null,
   "metadata": {},
   "outputs": [],
   "source": [
    "\n",
    "self.logger.info(f\"Loading {len(trades)} trades for {symbol}\")\n",
    "# Iterate through the trades that need to be added to the events\n",
    "for i in trades:\n",
    "    # make sure the event has a queue at a given timestamp\n",
    "    i[0] = int(i[0])\n",
    "    if i[0] not in self.events.keys():\n",
    "        self.events[i[0]] = deque()\n",
    "\n",
    "    side = 1 if i[2] == \"buy\" else 0\n",
    "\n",
    "    # once were sure there is a queue, append the trade to the timestamp\n",
    "    self.events[i[0]].append(\n",
    "        Trade(\n",
    "            symbol=symbol,\n",
    "            order_id=-1,\n",
    "            side=side,\n",
    "            taker=True,\n",
    "            amount=i[4],\n",
    "            price=i[3],\n",
    "            fees=0,\n",
    "            entryTime=i[0],\n",
    "            eventTime=i[0],\n",
    "        )\n",
    "    )\n",
    "\n",
    "self.logger.info(\"Trades loaded successfully\")"
   ]
  },
  {
   "cell_type": "code",
   "execution_count": 17,
   "metadata": {},
   "outputs": [],
   "source": []
  },
  {
   "cell_type": "code",
   "execution_count": null,
   "metadata": {},
   "outputs": [],
   "source": []
  }
 ],
 "metadata": {
  "kernelspec": {
   "display_name": "personal",
   "language": "python",
   "name": "python3"
  },
  "language_info": {
   "codemirror_mode": {
    "name": "ipython",
    "version": 3
   },
   "file_extension": ".py",
   "mimetype": "text/x-python",
   "name": "python",
   "nbconvert_exporter": "python",
   "pygments_lexer": "ipython3",
   "version": "3.11.3"
  },
  "orig_nbformat": 4
 },
 "nbformat": 4,
 "nbformat_minor": 2
}
