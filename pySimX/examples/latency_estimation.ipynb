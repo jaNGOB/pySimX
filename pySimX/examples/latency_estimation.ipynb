{
 "cells": [
  {
   "cell_type": "code",
   "execution_count": 68,
   "metadata": {},
   "outputs": [],
   "source": [
    "import os\n",
    "import pandas as pd\n",
    "import numpy as np\n",
    "from tqdm import tqdm\n",
    "import matplotlib.pyplot as plt"
   ]
  },
  {
   "cell_type": "markdown",
   "metadata": {},
   "source": [
    "## Import data"
   ]
  },
  {
   "cell_type": "code",
   "execution_count": 42,
   "metadata": {},
   "outputs": [],
   "source": [
    "folder_path = 'data_loader/datasets/'\n",
    "files_list = [\n",
    "    f for f in os.listdir(folder_path) if os.path.isfile(os.path.join(folder_path, f)) \n",
    "    and f.split('_')[0] == 'binance' \n",
    "    and f.split('_')[-1] == 'COMPBTC.csv.gz'\n",
    "    and f.split('_')[1] == 'quotes']"
   ]
  },
  {
   "cell_type": "code",
   "execution_count": 43,
   "metadata": {},
   "outputs": [],
   "source": [
    "def get_data(files_list):\n",
    "    df = pd.DataFrame()\n",
    "    # Use a loop to get all the csv.gz files from the path location in a single Dataframe\n",
    "    for csv_file in tqdm(files_list):\n",
    "        file_name = (folder_path + csv_file)\n",
    "        if file_name[-2:] == \"gz\":\n",
    "            df1 = pd.read_csv(file_name, compression='gzip')\n",
    "            # Concatenate all the dataframes into a single dataframe\n",
    "            df = pd.concat([df, df1], ignore_index=True)\n",
    "\n",
    "    df['time'] = pd.to_datetime(df.timestamp, unit='us')\n",
    "    df.set_index('time', inplace=True)\n",
    "    df.sort_index(inplace=True)\n",
    "    return df"
   ]
  },
  {
   "cell_type": "code",
   "execution_count": 44,
   "metadata": {},
   "outputs": [
    {
     "name": "stderr",
     "output_type": "stream",
     "text": [
      "100%|██████████| 1/1 [00:00<00:00, 21.36it/s]\n"
     ]
    }
   ],
   "source": [
    "df = get_data(files_list)"
   ]
  },
  {
   "cell_type": "markdown",
   "metadata": {},
   "source": [
    "## Log-normal latency"
   ]
  },
  {
   "cell_type": "markdown",
   "metadata": {},
   "source": [
    "Here we take the approach of estimating the latency based on a log-normal distribution. We calculate the random values with a mean of 0 and a standard deviation of $\\sigma_{random} = \\frac{\\sigma_{latency}}{\\mu_{latency}}$. This value is then used as a multiplier with the median latency we experienced in the past."
   ]
  },
  {
   "cell_type": "code",
   "execution_count": 127,
   "metadata": {},
   "outputs": [],
   "source": [
    "mu = 0\n",
    "sigma = df.latency.std()/df.latency.median()\n",
    "\n",
    "df['latency'] = df.local_timestamp - df.timestamp\n",
    "df['rndn_latency'] = np.random.lognormal(mu, sigma, len(df)) * df.latency"
   ]
  },
  {
   "cell_type": "code",
   "execution_count": 128,
   "metadata": {},
   "outputs": [
    {
     "data": {
      "text/plain": [
       "<Axes: >"
      ]
     },
     "execution_count": 128,
     "metadata": {},
     "output_type": "execute_result"
    },
    {
     "data": {
      "image/png": "[encoded data removed]",
      "text/plain": [
       "<Figure size 640x480 with 1 Axes>"
      ]
     },
     "metadata": {},
     "output_type": "display_data"
    }
   ],
   "source": [
    "df.latency.hist(bins=50, alpha=.6)\n",
    "df.rndn_latency.hist(bins=50, alpha=.6)"
   ]
  },
  {
   "cell_type": "code",
   "execution_count": null,
   "metadata": {},
   "outputs": [],
   "source": []
  }
 ],
 "metadata": {
  "kernelspec": {
   "display_name": "personal",
   "language": "python",
   "name": "python3"
  },
  "language_info": {
   "codemirror_mode": {
    "name": "ipython",
    "version": 3
   },
   "file_extension": ".py",
   "mimetype": "text/x-python",
   "name": "python",
   "nbconvert_exporter": "python",
   "pygments_lexer": "ipython3",
   "version": "3.11.3"
  },
  "orig_nbformat": 4
 },
 "nbformat": 4,
 "nbformat_minor": 2
}
