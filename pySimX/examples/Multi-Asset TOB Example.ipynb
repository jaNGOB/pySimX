{
 "cells": [
  {
   "cell_type": "code",
   "execution_count": 14,
   "metadata": {},
   "outputs": [],
   "source": [
    "import os\n",
    "import pandas as pd\n",
    "import numpy as np\n",
    "from tqdm import tqdm\n",
    "import matplotlib.pyplot as plt\n",
    "# Import package\n",
    "import os, sys\n",
    "parent_dir = os.path.abspath('..')\n",
    "if parent_dir not in sys.path:\n",
    "    sys.path.append(parent_dir)\n",
    "from src.exchange import TOB_Exchange\n",
    "\n",
    "%load_ext autoreload \n",
    "%autoreload 2"
   ]
  },
  {
   "cell_type": "markdown",
   "metadata": {},
   "source": [
    "## Import data"
   ]
  },
  {
   "cell_type": "code",
   "execution_count": 2,
   "metadata": {},
   "outputs": [],
   "source": [
    "folder_path = 'data_loader/datasets/'"
   ]
  },
  {
   "cell_type": "code",
   "execution_count": 3,
   "metadata": {},
   "outputs": [],
   "source": [
    "def get_data(files_list):\n",
    "    df = pd.DataFrame()\n",
    "    # Use a loop to get all the csv.gz files from the path location in a single Dataframe\n",
    "    for csv_file in tqdm(files_list):\n",
    "        file_name = (folder_path + csv_file)\n",
    "        if file_name[-2:] == \"gz\":\n",
    "            df1 = pd.read_csv(file_name, compression='gzip')\n",
    "            # Concatenate all the dataframes into a single dataframe\n",
    "            df = pd.concat([df, df1], ignore_index=True)\n",
    "    return df"
   ]
  },
  {
   "cell_type": "code",
   "execution_count": 10,
   "metadata": {},
   "outputs": [],
   "source": [
    "symbols = ['SUSHIUSDT', 'UNIUSDT']\n",
    "\n",
    "trades_list = []\n",
    "quotes_list = []\n",
    "\n",
    "for symbol in symbols: \n",
    "    # define folder path\n",
    "    quotes_list += [\n",
    "        f for f in os.listdir(folder_path) if os.path.isfile(os.path.join(folder_path, f)) \n",
    "        and f.split('_')[0] == 'binance-futures' \n",
    "        and f.split('_')[-1] == symbol + '.csv.gz'\n",
    "        and f.split('_')[1] == 'quotes']\n",
    "    \n",
    "    trades_list += [\n",
    "        f for f in os.listdir(folder_path) if os.path.isfile(os.path.join(folder_path, f)) \n",
    "        and f.split('_')[0] == 'binance-futures' \n",
    "        and f.split('_')[-1] == symbol + '.csv.gz'\n",
    "        and f.split('_')[1] == 'trades']"
   ]
  },
  {
   "cell_type": "code",
   "execution_count": 11,
   "metadata": {},
   "outputs": [
    {
     "name": "stderr",
     "output_type": "stream",
     "text": [
      "100%|██████████| 2/2 [00:00<00:00,  5.10it/s]\n",
      "100%|██████████| 2/2 [00:00<00:00,  6.49it/s]\n"
     ]
    }
   ],
   "source": [
    "quotes = get_data(quotes_list)\n",
    "trades = get_data(trades_list)"
   ]
  },
  {
   "cell_type": "markdown",
   "metadata": {},
   "source": [
    "## Prepare Exchange"
   ]
  },
  {
   "cell_type": "code",
   "execution_count": 25,
   "metadata": {},
   "outputs": [],
   "source": [
    "binance = TOB_Exchange(latency=[5000, 0.29])"
   ]
  },
  {
   "cell_type": "code",
   "execution_count": 26,
   "metadata": {},
   "outputs": [],
   "source": [
    "for symbol in symbols: \n",
    "    binance.add_market(symbol, symbol[:-4], symbol[-4:])\n",
    "    binance.load_tob(quotes.loc[quotes.symbol == symbol, ['timestamp', 'bid_amount', 'bid_price', 'ask_price', 'ask_amount']].sort_values('timestamp').to_numpy(), symbol)\n",
    "    binance.load_trades(trades.loc[trades.symbol == symbol, ['timestamp', 'id', 'side', 'price', 'amount']].to_numpy(), symbol)"
   ]
  },
  {
   "cell_type": "code",
   "execution_count": 27,
   "metadata": {},
   "outputs": [
    {
     "data": {
      "text/plain": [
       "{'SUSHIUSDT': ['SUSHI', 'USDT'], 'UNIUSDT': ['UNI', 'USDT']}"
      ]
     },
     "execution_count": 27,
     "metadata": {},
     "output_type": "execute_result"
    }
   ],
   "source": [
    "binance.market_mapping"
   ]
  },
  {
   "cell_type": "code",
   "execution_count": null,
   "metadata": {},
   "outputs": [],
   "source": []
  }
 ],
 "metadata": {
  "kernelspec": {
   "display_name": "personal",
   "language": "python",
   "name": "python3"
  },
  "language_info": {
   "codemirror_mode": {
    "name": "ipython",
    "version": 3
   },
   "file_extension": ".py",
   "mimetype": "text/x-python",
   "name": "python",
   "nbconvert_exporter": "python",
   "pygments_lexer": "ipython3",
   "version": "3.11.3"
  },
  "orig_nbformat": 4
 },
 "nbformat": 4,
 "nbformat_minor": 2
}
