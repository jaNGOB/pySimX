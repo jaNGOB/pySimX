{
 "cells": [
  {
   "cell_type": "code",
   "execution_count": 1,
   "metadata": {},
   "outputs": [],
   "source": [
    "import os \n",
    "import pandas as pd\n",
    "from tqdm import tqdm\n",
    "import numpy as np\n",
    "\n",
    "from src.data_types import TOB, Order\n",
    "from src.exchange import TOB_Exchange\n",
    "\n",
    "%load_ext autoreload \n",
    "%autoreload 2"
   ]
  },
  {
   "cell_type": "code",
   "execution_count": 2,
   "metadata": {},
   "outputs": [
    {
     "data": {
      "text/plain": [
       "['binance_quotes_2023-07-02_COMPBTC.csv.gz',\n",
       " 'binance_quotes_2023-07-05_COMPBTC.csv.gz',\n",
       " 'binance_quotes_2023-07-04_COMPBTC.csv.gz',\n",
       " 'binance_quotes_2023-07-03_COMPBTC.csv.gz']"
      ]
     },
     "execution_count": 2,
     "metadata": {},
     "output_type": "execute_result"
    }
   ],
   "source": [
    "# define folder path\n",
    "# folder_path = 'C:/Users/gobel/code/research_env/keyrock/bi-repo/data/tardis/datasets/'\n",
    "folder_path = '/Users/jan-gobeli/Code/bi-repo/data/tardis/datasets/'\n",
    "# folder_path = '/Users/nick-kokkaliaris/Desktop/Keyrock/Keyrock/Tardis Playground/datasets/'\n",
    "files_list = [\n",
    "    f for f in os.listdir(folder_path) if os.path.isfile(os.path.join(folder_path, f)) \n",
    "    and f.split('_')[0] == 'binance' \n",
    "    and f.split('_')[-1] == 'COMPBTC.csv.gz'\n",
    "    #and f.split('_')[-2] == 'OG'\n",
    "    and f.split('_')[1] == 'quotes']\n",
    "files_list"
   ]
  },
  {
   "cell_type": "code",
   "execution_count": 3,
   "metadata": {},
   "outputs": [],
   "source": [
    "# bin_trades = [\n",
    "#     f for f in os.listdir(folder_path) if os.path.isfile(os.path.join(folder_path, f)) \n",
    "#     and f.split('_')[0] == 'binance' \n",
    "#     and f.split('_')[-1] == 'COMPBTC.csv.gz'\n",
    "#     #and f.split('_')[-2] == 'OG'\n",
    "#     and f.split('_')[1] == 'trades']\n",
    "# u_trades = [\n",
    "#     f for f in os.listdir(folder_path) if os.path.isfile(os.path.join(folder_path, f)) \n",
    "#     and f.split('_')[0] == 'upbit' \n",
    "#     and f.split('_')[-1] == 'BTC-COMP.csv.gz'\n",
    "#     #and f.split('_')[-2] == 'OG'\n",
    "#     and f.split('_')[1] == 'trades']\n",
    "# ufiles_list = [\n",
    "#     f for f in os.listdir(folder_path) if os.path.isfile(os.path.join(folder_path, f)) \n",
    "#     and f.split('_')[0] == 'upbit' \n",
    "#     and f.split('_')[-1] == 'BTC-COMP.csv.gz'\n",
    "#     #and f.split('_')[-2] == 'OG'\n",
    "#     and f.split('_')[1] == 'quotes']"
   ]
  },
  {
   "cell_type": "code",
   "execution_count": 4,
   "metadata": {},
   "outputs": [],
   "source": [
    "def get_data(files_list):\n",
    "    df = pd.DataFrame()\n",
    "    # Use a loop to get all the csv.gz files from the path location in a single Dataframe\n",
    "    for csv_file in tqdm(files_list):\n",
    "        file_name = (folder_path + csv_file)\n",
    "        if file_name[-2:] == \"gz\":\n",
    "            df1 = pd.read_csv(file_name, compression='gzip')\n",
    "            # Concatenate all the dataframes into a single dataframe\n",
    "            df = pd.concat([df, df1], ignore_index=True)\n",
    "    return df"
   ]
  },
  {
   "cell_type": "code",
   "execution_count": 5,
   "metadata": {},
   "outputs": [
    {
     "name": "stderr",
     "output_type": "stream",
     "text": [
      "  0%|          | 0/4 [00:00<?, ?it/s]"
     ]
    },
    {
     "name": "stderr",
     "output_type": "stream",
     "text": [
      "100%|██████████| 4/4 [00:00<00:00, 16.41it/s]\n"
     ]
    }
   ],
   "source": [
    "# upbit = get_data(ufiles_list)\n",
    "binance = get_data(files_list)\n",
    "\n",
    "# upbit_t = get_data(u_trades)\n",
    "# binance_t = get_data(bin_trades)"
   ]
  },
  {
   "cell_type": "code",
   "execution_count": 6,
   "metadata": {},
   "outputs": [],
   "source": [
    "binance['time'] = pd.to_datetime(binance.timestamp, unit='us')\n",
    "# upbit['time'] = pd.to_datetime(upbit.timestamp, unit='us')\n",
    "# binance_t['time'] = pd.to_datetime(binance_t.timestamp, unit='us')\n",
    "# upbit_t['time'] = pd.to_datetime(upbit_t.timestamp, unit='us')\n",
    "\n",
    "binance.set_index('time', inplace=True)\n",
    "# upbit.set_index('time', inplace=True)\n",
    "# binance_t.set_index('time', inplace=True)\n",
    "# upbit_t.set_index('time', inplace=True)"
   ]
  },
  {
   "cell_type": "code",
   "execution_count": 7,
   "metadata": {},
   "outputs": [],
   "source": [
    "# binance_t = binance_t[['timestamp', 'side', 'price', 'amount']].groupby(['timestamp', 'side', 'price']).sum().reset_index()"
   ]
  },
  {
   "cell_type": "code",
   "execution_count": 8,
   "metadata": {},
   "outputs": [
    {
     "data": {
      "text/plain": [
       "0.2902754220552034"
      ]
     },
     "execution_count": 8,
     "metadata": {},
     "output_type": "execute_result"
    }
   ],
   "source": [
    "binance['latency'] = binance.local_timestamp - binance.timestamp\n",
    "binance.latency.std() / binance.latency.mean()"
   ]
  },
  {
   "cell_type": "code",
   "execution_count": 42,
   "metadata": {},
   "outputs": [],
   "source": [
    "lst = binance[['timestamp', 'bid_amount', 'bid_price', 'ask_price', 'ask_amount']].sort_values('timestamp').to_numpy()\n",
    "\n",
    "symbol = 'COMPBTC'\n",
    "\n",
    "exchg = TOB_Exchange(latency=[5000, 0.29])\n",
    "exchg.add_market(symbol, 'COMP', 'BTC')\n",
    "exchg.add_balance('COMP', 0)\n",
    "exchg.add_balance('BTC', 0.1)\n",
    "exchg.load_tob(lst, symbol)"
   ]
  },
  {
   "cell_type": "code",
   "execution_count": 43,
   "metadata": {},
   "outputs": [],
   "source": [
    "binance['spread'] = binance.ask_price / binance.bid_price - 1\n",
    "binance['bid_pressure'] = binance.bid_amount / (binance.bid_amount + binance.ask_amount)"
   ]
  },
  {
   "cell_type": "code",
   "execution_count": 45,
   "metadata": {},
   "outputs": [],
   "source": [
    "def signal(tob):\n",
    "    bid_pressure = tob['bid_quantity'] / (tob['bid_quantity'] + tob['ask_quantity'])\n",
    "\n",
    "    if bid_pressure >= 0.999: \n",
    "        return 1 \n",
    "    \n",
    "    elif bid_pressure <= 0.5: \n",
    "        return -1 \n",
    "    \n",
    "    else: \n",
    "        return 0"
   ]
  },
  {
   "cell_type": "code",
   "execution_count": 46,
   "metadata": {},
   "outputs": [],
   "source": [
    "class tob_imbalance(): \n",
    "    def __init__(self):\n",
    "        self.symbol = 'COMPBTC'\n",
    "        self.amount = 1\n",
    "\n",
    "        self.flag = False\n",
    "\n",
    "    def run_strategy(self):\n",
    "\n",
    "        tob = exchg.fetch_tob(self.symbol)\n",
    "\n",
    "        decision = signal(tob)\n",
    "\n",
    "        if (decision == 1) and not (self.flag): \n",
    "            exchg.market_order(symbol, self.amount, decision, tob['timestamp'])\n",
    "            self.flag = True\n",
    "\n",
    "        elif (decision == -1) and (self.flag): \n",
    "            exchg.market_order(symbol, self.amount, decision, tob['timestamp'])\n",
    "            self.flag = False\n",
    "\n",
    "        else: \n",
    "            pass"
   ]
  },
  {
   "cell_type": "code",
   "execution_count": 47,
   "metadata": {},
   "outputs": [
    {
     "name": "stdout",
     "output_type": "stream",
     "text": [
      "Trade Executed Trade(trade_id=100, order_id=102, side=1, taker=True, amount=1, price=0.001716, entryTime=1688256004134890.5, eventTime=1688256004134890.5)\n",
      "Trade Executed Trade(trade_id=101, order_id=103, side=-1, taker=True, amount=1, price=0.001678, entryTime=1688264792958550.2, eventTime=1688264792958550.2)\n",
      "Trade Executed Trade(trade_id=102, order_id=104, side=1, taker=True, amount=1, price=0.001678, entryTime=1688264793159653.0, eventTime=1688264793159653.0)\n",
      "Trade Executed Trade(trade_id=103, order_id=105, side=-1, taker=True, amount=1, price=0.001813, entryTime=1688289151272387.5, eventTime=1688289151272387.5)\n",
      "Trade Executed Trade(trade_id=104, order_id=106, side=1, taker=True, amount=1, price=0.001812, entryTime=1688289155479172.5, eventTime=1688289155479172.5)\n",
      "Trade Executed Trade(trade_id=105, order_id=107, side=-1, taker=True, amount=1, price=0.00181, entryTime=1688290431467995.5, eventTime=1688290431467995.5)\n",
      "Trade Executed Trade(trade_id=106, order_id=108, side=1, taker=True, amount=1, price=0.001811, entryTime=1688290432070230.8, eventTime=1688290432070230.8)\n",
      "Trade Executed Trade(trade_id=107, order_id=109, side=-1, taker=True, amount=1, price=0.001937, entryTime=1688293721809000.8, eventTime=1688293721809000.8)\n",
      "Trade Executed Trade(trade_id=108, order_id=110, side=1, taker=True, amount=1, price=0.001938, entryTime=1688293722210442.0, eventTime=1688293722210442.0)\n",
      "Trade Executed Trade(trade_id=109, order_id=111, side=-1, taker=True, amount=1, price=0.001987, entryTime=1688293845280067.0, eventTime=1688293845280067.0)\n",
      "Trade Executed Trade(trade_id=110, order_id=112, side=1, taker=True, amount=1, price=0.001986, entryTime=1688293847377479.2, eventTime=1688293847377479.2)\n",
      "Trade Executed Trade(trade_id=111, order_id=113, side=-1, taker=True, amount=1, price=0.002061, entryTime=1688298299779880.0, eventTime=1688298299779880.0)\n",
      "Trade Executed Trade(trade_id=112, order_id=114, side=1, taker=True, amount=1, price=0.002061, entryTime=1688298302084345.8, eventTime=1688298302084345.8)\n",
      "Trade Executed Trade(trade_id=113, order_id=115, side=-1, taker=True, amount=1, price=0.002047, entryTime=1688298613953466.2, eventTime=1688298613953466.2)\n",
      "Trade Executed Trade(trade_id=114, order_id=116, side=1, taker=True, amount=1, price=0.002048, entryTime=1688298614754305.2, eventTime=1688298614754305.2)\n",
      "Trade Executed Trade(trade_id=115, order_id=117, side=-1, taker=True, amount=1, price=0.002019, entryTime=1688298996760297.0, eventTime=1688298996760297.0)\n",
      "Trade Executed Trade(trade_id=116, order_id=118, side=1, taker=True, amount=1, price=0.002018, entryTime=1688299000162140.8, eventTime=1688299000162140.8)\n",
      "Trade Executed Trade(trade_id=117, order_id=119, side=-1, taker=True, amount=1, price=0.002016, entryTime=1688299157147460.0, eventTime=1688299157147460.0)\n",
      "Trade Executed Trade(trade_id=118, order_id=120, side=1, taker=True, amount=1, price=0.002013, entryTime=1688299158250111.5, eventTime=1688299158250111.5)\n",
      "Trade Executed Trade(trade_id=119, order_id=121, side=-1, taker=True, amount=1, price=0.00201, entryTime=1688301522902410.2, eventTime=1688301522902410.2)\n",
      "Trade Executed Trade(trade_id=120, order_id=122, side=1, taker=True, amount=1, price=0.00201, entryTime=1688301523705973.0, eventTime=1688301523705973.0)\n",
      "Trade Executed Trade(trade_id=121, order_id=123, side=-1, taker=True, amount=1, price=0.002023, entryTime=1688304390958083.8, eventTime=1688304390958083.8)\n",
      "Trade Executed Trade(trade_id=122, order_id=124, side=1, taker=True, amount=1, price=0.002022, entryTime=1688304392059872.2, eventTime=1688304392059872.2)\n",
      "Trade Executed Trade(trade_id=123, order_id=125, side=-1, taker=True, amount=1, price=0.002053, entryTime=1688310160332573.8, eventTime=1688310160332573.8)\n",
      "Trade Executed Trade(trade_id=124, order_id=126, side=1, taker=True, amount=1, price=0.002054, entryTime=1688310162535790.0, eventTime=1688310162535790.0)\n",
      "Trade Executed Trade(trade_id=125, order_id=127, side=-1, taker=True, amount=1, price=0.002021, entryTime=1688313496505784.8, eventTime=1688313496505784.8)\n",
      "Trade Executed Trade(trade_id=126, order_id=128, side=1, taker=True, amount=1, price=0.002019, entryTime=1688313497104007.5, eventTime=1688313497104007.5)\n",
      "Trade Executed Trade(trade_id=127, order_id=129, side=-1, taker=True, amount=1, price=0.002224, entryTime=1688342733733424.5, eventTime=1688342733733424.5)\n",
      "Trade Executed Trade(trade_id=128, order_id=130, side=1, taker=True, amount=1, price=0.002223, entryTime=1688342733831640.0, eventTime=1688342733831640.0)\n",
      "Trade Executed Trade(trade_id=129, order_id=131, side=-1, taker=True, amount=1, price=0.002218, entryTime=1688343677523724.0, eventTime=1688343677523724.0)\n",
      "Trade Executed Trade(trade_id=130, order_id=132, side=1, taker=True, amount=1, price=0.002218, entryTime=1688343677625273.0, eventTime=1688343677625273.0)\n",
      "Trade Executed Trade(trade_id=131, order_id=133, side=-1, taker=True, amount=1, price=0.002208, entryTime=1688344299941751.2, eventTime=1688344299941751.2)\n",
      "Trade Executed Trade(trade_id=132, order_id=134, side=1, taker=True, amount=1, price=0.002204, entryTime=1688344300951804.8, eventTime=1688344300951804.8)\n",
      "Trade Executed Trade(trade_id=133, order_id=135, side=-1, taker=True, amount=1, price=0.002254, entryTime=1688345878691628.5, eventTime=1688345878691628.5)\n",
      "Trade Executed Trade(trade_id=134, order_id=136, side=1, taker=True, amount=1, price=0.002254, entryTime=1688345879388226.8, eventTime=1688345879388226.8)\n",
      "Trade Executed Trade(trade_id=135, order_id=137, side=-1, taker=True, amount=1, price=0.002248, entryTime=1688347884274292.5, eventTime=1688347884274292.5)\n",
      "Trade Executed Trade(trade_id=136, order_id=138, side=1, taker=True, amount=1, price=0.002248, entryTime=1688347895176742.8, eventTime=1688347895176742.8)\n",
      "Trade Executed Trade(trade_id=137, order_id=139, side=-1, taker=True, amount=1, price=0.00222, entryTime=1688348544915636.8, eventTime=1688348544915636.8)\n",
      "Trade Executed Trade(trade_id=138, order_id=140, side=1, taker=True, amount=1, price=0.002219, entryTime=1688348545515272.8, eventTime=1688348545515272.8)\n",
      "Trade Executed Trade(trade_id=139, order_id=141, side=-1, taker=True, amount=1, price=0.002109, entryTime=1688361913893982.0, eventTime=1688361913893982.0)\n",
      "Trade Executed Trade(trade_id=140, order_id=142, side=1, taker=True, amount=1, price=0.00211, entryTime=1688361917696902.8, eventTime=1688361917696902.8)\n",
      "Trade Executed Trade(trade_id=141, order_id=143, side=-1, taker=True, amount=1, price=0.002108, entryTime=1688375808446742.0, eventTime=1688375808446742.0)\n",
      "Trade Executed Trade(trade_id=142, order_id=144, side=1, taker=True, amount=1, price=0.00211, entryTime=1688375822153331.0, eventTime=1688375822153331.0)\n",
      "Trade Executed Trade(trade_id=143, order_id=145, side=-1, taker=True, amount=1, price=0.002029, entryTime=1688385314672474.0, eventTime=1688385314672474.0)\n",
      "Trade Executed Trade(trade_id=144, order_id=146, side=1, taker=True, amount=1, price=0.002027, entryTime=1688385315569675.5, eventTime=1688385315569675.5)\n",
      "Trade Executed Trade(trade_id=145, order_id=147, side=-1, taker=True, amount=1, price=0.002004, entryTime=1688386611125764.8, eventTime=1688386611125764.8)\n",
      "Trade Executed Trade(trade_id=146, order_id=148, side=1, taker=True, amount=1, price=0.002005, entryTime=1688386611225148.0, eventTime=1688386611225148.0)\n",
      "Trade Executed Trade(trade_id=147, order_id=149, side=-1, taker=True, amount=1, price=0.002041, entryTime=1688390212861478.8, eventTime=1688390212861478.8)\n",
      "Trade Executed Trade(trade_id=148, order_id=150, side=1, taker=True, amount=1, price=0.002041, entryTime=1688390217561656.0, eventTime=1688390217561656.0)\n",
      "Trade Executed Trade(trade_id=149, order_id=151, side=-1, taker=True, amount=1, price=0.002027, entryTime=1688390961853330.5, eventTime=1688390961853330.5)\n",
      "Trade Executed Trade(trade_id=150, order_id=152, side=1, taker=True, amount=1, price=0.002027, entryTime=1688390962650468.0, eventTime=1688390962650468.0)\n",
      "Trade Executed Trade(trade_id=151, order_id=153, side=-1, taker=True, amount=1, price=0.00205, entryTime=1688396929675065.5, eventTime=1688396929675065.5)\n",
      "Trade Executed Trade(trade_id=152, order_id=154, side=1, taker=True, amount=1, price=0.00205, entryTime=1688396929977873.5, eventTime=1688396929977873.5)\n",
      "Trade Executed Trade(trade_id=153, order_id=155, side=-1, taker=True, amount=1, price=0.001996, entryTime=1688434505756660.2, eventTime=1688434505756660.2)\n",
      "Trade Executed Trade(trade_id=154, order_id=156, side=1, taker=True, amount=1, price=0.001996, entryTime=1688434506556744.0, eventTime=1688434506556744.0)\n",
      "Trade Executed Trade(trade_id=155, order_id=157, side=-1, taker=True, amount=1, price=0.001968, entryTime=1688438946786238.8, eventTime=1688438946786238.8)\n",
      "Trade Executed Trade(trade_id=156, order_id=158, side=1, taker=True, amount=1, price=0.001967, entryTime=1688438947782510.2, eventTime=1688438947782510.2)\n",
      "Trade Executed Trade(trade_id=157, order_id=159, side=-1, taker=True, amount=1, price=0.002229, entryTime=1688449069386793.5, eventTime=1688449069386793.5)\n",
      "Trade Executed Trade(trade_id=158, order_id=160, side=1, taker=True, amount=1, price=0.002226, entryTime=1688449072388587.5, eventTime=1688449072388587.5)\n",
      "Trade Executed Trade(trade_id=159, order_id=161, side=-1, taker=True, amount=1, price=0.002076, entryTime=1688452582009626.8, eventTime=1688452582009626.8)\n",
      "Trade Executed Trade(trade_id=160, order_id=162, side=1, taker=True, amount=1, price=0.002076, entryTime=1688452582401164.5, eventTime=1688452582401164.5)\n",
      "Trade Executed Trade(trade_id=161, order_id=163, side=-1, taker=True, amount=1, price=0.002075, entryTime=1688488041298032.5, eventTime=1688488041298032.5)\n",
      "Trade Executed Trade(trade_id=162, order_id=164, side=1, taker=True, amount=1, price=0.002075, entryTime=1688488042198649.2, eventTime=1688488042198649.2)\n",
      "Trade Executed Trade(trade_id=163, order_id=165, side=-1, taker=True, amount=1, price=0.002069, entryTime=1688498119972605.2, eventTime=1688498119972605.2)\n",
      "Trade Executed Trade(trade_id=164, order_id=166, side=1, taker=True, amount=1, price=0.002066, entryTime=1688498123470844.8, eventTime=1688498123470844.8)\n",
      "Trade Executed Trade(trade_id=165, order_id=167, side=-1, taker=True, amount=1, price=0.002076, entryTime=1688499712847693.5, eventTime=1688499712847693.5)\n",
      "Trade Executed Trade(trade_id=166, order_id=168, side=1, taker=True, amount=1, price=0.002076, entryTime=1688499713648979.0, eventTime=1688499713648979.0)\n",
      "Trade Executed Trade(trade_id=167, order_id=169, side=-1, taker=True, amount=1, price=0.002059, entryTime=1688506500101536.0, eventTime=1688506500101536.0)\n",
      "Trade Executed Trade(trade_id=168, order_id=170, side=1, taker=True, amount=1, price=0.002059, entryTime=1688506500204586.8, eventTime=1688506500204586.8)\n",
      "Trade Executed Trade(trade_id=169, order_id=171, side=-1, taker=True, amount=1, price=0.002104, entryTime=1688520138407318.2, eventTime=1688520138407318.2)\n",
      "Trade Executed Trade(trade_id=170, order_id=172, side=1, taker=True, amount=1, price=0.002102, entryTime=1688520138609279.0, eventTime=1688520138609279.0)\n",
      "Trade Executed Trade(trade_id=171, order_id=173, side=-1, taker=True, amount=1, price=0.00202, entryTime=1688545324771390.2, eventTime=1688545324771390.2)\n",
      "Trade Executed Trade(trade_id=172, order_id=174, side=1, taker=True, amount=1, price=0.00202, entryTime=1688545325578036.0, eventTime=1688545325578036.0)\n",
      "Trade Executed Trade(trade_id=173, order_id=175, side=-1, taker=True, amount=1, price=0.001944, entryTime=1688553228092216.5, eventTime=1688553228092216.5)\n",
      "Trade Executed Trade(trade_id=174, order_id=176, side=1, taker=True, amount=1, price=0.001944, entryTime=1688553230096826.2, eventTime=1688553230096826.2)\n",
      "Trade Executed Trade(trade_id=175, order_id=177, side=-1, taker=True, amount=1, price=0.001919, entryTime=1688554884132660.2, eventTime=1688554884132660.2)\n",
      "Trade Executed Trade(trade_id=176, order_id=178, side=1, taker=True, amount=1, price=0.001919, entryTime=1688554886129472.8, eventTime=1688554886129472.8)\n",
      "Trade Executed Trade(trade_id=177, order_id=179, side=-1, taker=True, amount=1, price=0.001921, entryTime=1688554940957929.0, eventTime=1688554940957929.0)\n",
      "Trade Executed Trade(trade_id=178, order_id=180, side=1, taker=True, amount=1, price=0.001921, entryTime=1688554943660204.8, eventTime=1688554943660204.8)\n",
      "Trade Executed Trade(trade_id=179, order_id=181, side=-1, taker=True, amount=1, price=0.00191, entryTime=1688558648936157.2, eventTime=1688558648936157.2)\n",
      "Trade Executed Trade(trade_id=180, order_id=182, side=1, taker=True, amount=1, price=0.001909, entryTime=1688558649038160.8, eventTime=1688558649038160.8)\n",
      "Trade Executed Trade(trade_id=181, order_id=183, side=-1, taker=True, amount=1, price=0.001926, entryTime=1688559847307418.0, eventTime=1688559847307418.0)\n",
      "Trade Executed Trade(trade_id=182, order_id=184, side=1, taker=True, amount=1, price=0.001926, entryTime=1688559849106516.5, eventTime=1688559849106516.5)\n",
      "Trade Executed Trade(trade_id=183, order_id=185, side=-1, taker=True, amount=1, price=0.001876, entryTime=1688568881446040.0, eventTime=1688568881446040.0)\n",
      "Trade Executed Trade(trade_id=184, order_id=186, side=1, taker=True, amount=1, price=0.00188, entryTime=1688568888448347.2, eventTime=1688568888448347.2)\n",
      "Trade Executed Trade(trade_id=185, order_id=187, side=-1, taker=True, amount=1, price=0.00184, entryTime=1688569379304523.5, eventTime=1688569379304523.5)\n",
      "Trade Executed Trade(trade_id=186, order_id=188, side=1, taker=True, amount=1, price=0.001839, entryTime=1688569381304642.8, eventTime=1688569381304642.8)\n",
      "Trade Executed Trade(trade_id=187, order_id=189, side=-1, taker=True, amount=1, price=0.00184, entryTime=1688569575107688.0, eventTime=1688569575107688.0)\n",
      "Trade Executed Trade(trade_id=188, order_id=190, side=1, taker=True, amount=1, price=0.001839, entryTime=1688569576005193.8, eventTime=1688569576005193.8)\n",
      "Trade Executed Trade(trade_id=189, order_id=191, side=-1, taker=True, amount=1, price=0.001836, entryTime=1688569883857458.8, eventTime=1688569883857458.8)\n",
      "Trade Executed Trade(trade_id=190, order_id=192, side=1, taker=True, amount=1, price=0.001836, entryTime=1688569886659762.5, eventTime=1688569886659762.5)\n",
      "Trade Executed Trade(trade_id=191, order_id=193, side=-1, taker=True, amount=1, price=0.001836, entryTime=1688570921564641.5, eventTime=1688570921564641.5)\n",
      "Trade Executed Trade(trade_id=192, order_id=194, side=1, taker=True, amount=1, price=0.001836, entryTime=1688570922369994.8, eventTime=1688570922369994.8)\n",
      "Trade Executed Trade(trade_id=193, order_id=195, side=-1, taker=True, amount=1, price=0.001875, entryTime=1688573659213368.8, eventTime=1688573659213368.8)\n",
      "Trade Executed Trade(trade_id=194, order_id=196, side=1, taker=True, amount=1, price=0.001873, entryTime=1688573660111975.8, eventTime=1688573660111975.8)\n",
      "Trade Executed Trade(trade_id=195, order_id=197, side=-1, taker=True, amount=1, price=0.001912, entryTime=1688574928867517.5, eventTime=1688574928867517.5)\n",
      "Trade Executed Trade(trade_id=196, order_id=198, side=1, taker=True, amount=1, price=0.001912, entryTime=1688574928967865.0, eventTime=1688574928967865.0)\n",
      "Trade Executed Trade(trade_id=197, order_id=199, side=-1, taker=True, amount=1, price=0.001916, entryTime=1688577731351732.2, eventTime=1688577731351732.2)\n",
      "Trade Executed Trade(trade_id=198, order_id=200, side=1, taker=True, amount=1, price=0.001916, entryTime=1688577731450266.0, eventTime=1688577731450266.0)\n"
     ]
    }
   ],
   "source": [
    "exchg.run_simulation(tob_imbalance)"
   ]
  },
  {
   "cell_type": "code",
   "execution_count": 48,
   "metadata": {},
   "outputs": [
    {
     "data": {
      "text/plain": [
       "SortedDict({1688256004134890.5: Trade(trade_id=100, order_id=102, side=1, taker=True, amount=1, price=0.001716, entryTime=1688256004134890.5, eventTime=1688256004134890.5), 1688264792958550.2: Trade(trade_id=101, order_id=103, side=-1, taker=True, amount=1, price=0.001678, entryTime=1688264792958550.2, eventTime=1688264792958550.2), 1688264793159653.0: Trade(trade_id=102, order_id=104, side=1, taker=True, amount=1, price=0.001678, entryTime=1688264793159653.0, eventTime=1688264793159653.0), 1688289151272387.5: Trade(trade_id=103, order_id=105, side=-1, taker=True, amount=1, price=0.001813, entryTime=1688289151272387.5, eventTime=1688289151272387.5), 1688289155479172.5: Trade(trade_id=104, order_id=106, side=1, taker=True, amount=1, price=0.001812, entryTime=1688289155479172.5, eventTime=1688289155479172.5), 1688290431467995.5: Trade(trade_id=105, order_id=107, side=-1, taker=True, amount=1, price=0.00181, entryTime=1688290431467995.5, eventTime=1688290431467995.5), 1688290432070230.8: Trade(trade_id=106, order_id=108, side=1, taker=True, amount=1, price=0.001811, entryTime=1688290432070230.8, eventTime=1688290432070230.8), 1688293721809000.8: Trade(trade_id=107, order_id=109, side=-1, taker=True, amount=1, price=0.001937, entryTime=1688293721809000.8, eventTime=1688293721809000.8), 1688293722210442.0: Trade(trade_id=108, order_id=110, side=1, taker=True, amount=1, price=0.001938, entryTime=1688293722210442.0, eventTime=1688293722210442.0), 1688293845280067.0: Trade(trade_id=109, order_id=111, side=-1, taker=True, amount=1, price=0.001987, entryTime=1688293845280067.0, eventTime=1688293845280067.0), 1688293847377479.2: Trade(trade_id=110, order_id=112, side=1, taker=True, amount=1, price=0.001986, entryTime=1688293847377479.2, eventTime=1688293847377479.2), 1688298299779880.0: Trade(trade_id=111, order_id=113, side=-1, taker=True, amount=1, price=0.002061, entryTime=1688298299779880.0, eventTime=1688298299779880.0), 1688298302084345.8: Trade(trade_id=112, order_id=114, side=1, taker=True, amount=1, price=0.002061, entryTime=1688298302084345.8, eventTime=1688298302084345.8), 1688298613953466.2: Trade(trade_id=113, order_id=115, side=-1, taker=True, amount=1, price=0.002047, entryTime=1688298613953466.2, eventTime=1688298613953466.2), 1688298614754305.2: Trade(trade_id=114, order_id=116, side=1, taker=True, amount=1, price=0.002048, entryTime=1688298614754305.2, eventTime=1688298614754305.2), 1688298996760297.0: Trade(trade_id=115, order_id=117, side=-1, taker=True, amount=1, price=0.002019, entryTime=1688298996760297.0, eventTime=1688298996760297.0), 1688299000162140.8: Trade(trade_id=116, order_id=118, side=1, taker=True, amount=1, price=0.002018, entryTime=1688299000162140.8, eventTime=1688299000162140.8), 1688299157147460.0: Trade(trade_id=117, order_id=119, side=-1, taker=True, amount=1, price=0.002016, entryTime=1688299157147460.0, eventTime=1688299157147460.0), 1688299158250111.5: Trade(trade_id=118, order_id=120, side=1, taker=True, amount=1, price=0.002013, entryTime=1688299158250111.5, eventTime=1688299158250111.5), 1688301522902410.2: Trade(trade_id=119, order_id=121, side=-1, taker=True, amount=1, price=0.00201, entryTime=1688301522902410.2, eventTime=1688301522902410.2), 1688301523705973.0: Trade(trade_id=120, order_id=122, side=1, taker=True, amount=1, price=0.00201, entryTime=1688301523705973.0, eventTime=1688301523705973.0), 1688304390958083.8: Trade(trade_id=121, order_id=123, side=-1, taker=True, amount=1, price=0.002023, entryTime=1688304390958083.8, eventTime=1688304390958083.8), 1688304392059872.2: Trade(trade_id=122, order_id=124, side=1, taker=True, amount=1, price=0.002022, entryTime=1688304392059872.2, eventTime=1688304392059872.2), 1688310160332573.8: Trade(trade_id=123, order_id=125, side=-1, taker=True, amount=1, price=0.002053, entryTime=1688310160332573.8, eventTime=1688310160332573.8), 1688310162535790.0: Trade(trade_id=124, order_id=126, side=1, taker=True, amount=1, price=0.002054, entryTime=1688310162535790.0, eventTime=1688310162535790.0), 1688313496505784.8: Trade(trade_id=125, order_id=127, side=-1, taker=True, amount=1, price=0.002021, entryTime=1688313496505784.8, eventTime=1688313496505784.8), 1688313497104007.5: Trade(trade_id=126, order_id=128, side=1, taker=True, amount=1, price=0.002019, entryTime=1688313497104007.5, eventTime=1688313497104007.5), 1688342733733424.5: Trade(trade_id=127, order_id=129, side=-1, taker=True, amount=1, price=0.002224, entryTime=1688342733733424.5, eventTime=1688342733733424.5), 1688342733831640.0: Trade(trade_id=128, order_id=130, side=1, taker=True, amount=1, price=0.002223, entryTime=1688342733831640.0, eventTime=1688342733831640.0), 1688343677523724.0: Trade(trade_id=129, order_id=131, side=-1, taker=True, amount=1, price=0.002218, entryTime=1688343677523724.0, eventTime=1688343677523724.0), 1688343677625273.0: Trade(trade_id=130, order_id=132, side=1, taker=True, amount=1, price=0.002218, entryTime=1688343677625273.0, eventTime=1688343677625273.0), 1688344299941751.2: Trade(trade_id=131, order_id=133, side=-1, taker=True, amount=1, price=0.002208, entryTime=1688344299941751.2, eventTime=1688344299941751.2), 1688344300951804.8: Trade(trade_id=132, order_id=134, side=1, taker=True, amount=1, price=0.002204, entryTime=1688344300951804.8, eventTime=1688344300951804.8), 1688345878691628.5: Trade(trade_id=133, order_id=135, side=-1, taker=True, amount=1, price=0.002254, entryTime=1688345878691628.5, eventTime=1688345878691628.5), 1688345879388226.8: Trade(trade_id=134, order_id=136, side=1, taker=True, amount=1, price=0.002254, entryTime=1688345879388226.8, eventTime=1688345879388226.8), 1688347884274292.5: Trade(trade_id=135, order_id=137, side=-1, taker=True, amount=1, price=0.002248, entryTime=1688347884274292.5, eventTime=1688347884274292.5), 1688347895176742.8: Trade(trade_id=136, order_id=138, side=1, taker=True, amount=1, price=0.002248, entryTime=1688347895176742.8, eventTime=1688347895176742.8), 1688348544915636.8: Trade(trade_id=137, order_id=139, side=-1, taker=True, amount=1, price=0.00222, entryTime=1688348544915636.8, eventTime=1688348544915636.8), 1688348545515272.8: Trade(trade_id=138, order_id=140, side=1, taker=True, amount=1, price=0.002219, entryTime=1688348545515272.8, eventTime=1688348545515272.8), 1688361913893982.0: Trade(trade_id=139, order_id=141, side=-1, taker=True, amount=1, price=0.002109, entryTime=1688361913893982.0, eventTime=1688361913893982.0), 1688361917696902.8: Trade(trade_id=140, order_id=142, side=1, taker=True, amount=1, price=0.00211, entryTime=1688361917696902.8, eventTime=1688361917696902.8), 1688375808446742.0: Trade(trade_id=141, order_id=143, side=-1, taker=True, amount=1, price=0.002108, entryTime=1688375808446742.0, eventTime=1688375808446742.0), 1688375822153331.0: Trade(trade_id=142, order_id=144, side=1, taker=True, amount=1, price=0.00211, entryTime=1688375822153331.0, eventTime=1688375822153331.0), 1688385314672474.0: Trade(trade_id=143, order_id=145, side=-1, taker=True, amount=1, price=0.002029, entryTime=1688385314672474.0, eventTime=1688385314672474.0), 1688385315569675.5: Trade(trade_id=144, order_id=146, side=1, taker=True, amount=1, price=0.002027, entryTime=1688385315569675.5, eventTime=1688385315569675.5), 1688386611125764.8: Trade(trade_id=145, order_id=147, side=-1, taker=True, amount=1, price=0.002004, entryTime=1688386611125764.8, eventTime=1688386611125764.8), 1688386611225148.0: Trade(trade_id=146, order_id=148, side=1, taker=True, amount=1, price=0.002005, entryTime=1688386611225148.0, eventTime=1688386611225148.0), 1688390212861478.8: Trade(trade_id=147, order_id=149, side=-1, taker=True, amount=1, price=0.002041, entryTime=1688390212861478.8, eventTime=1688390212861478.8), 1688390217561656.0: Trade(trade_id=148, order_id=150, side=1, taker=True, amount=1, price=0.002041, entryTime=1688390217561656.0, eventTime=1688390217561656.0), 1688390961853330.5: Trade(trade_id=149, order_id=151, side=-1, taker=True, amount=1, price=0.002027, entryTime=1688390961853330.5, eventTime=1688390961853330.5), 1688390962650468.0: Trade(trade_id=150, order_id=152, side=1, taker=True, amount=1, price=0.002027, entryTime=1688390962650468.0, eventTime=1688390962650468.0), 1688396929675065.5: Trade(trade_id=151, order_id=153, side=-1, taker=True, amount=1, price=0.00205, entryTime=1688396929675065.5, eventTime=1688396929675065.5), 1688396929977873.5: Trade(trade_id=152, order_id=154, side=1, taker=True, amount=1, price=0.00205, entryTime=1688396929977873.5, eventTime=1688396929977873.5), 1688434505756660.2: Trade(trade_id=153, order_id=155, side=-1, taker=True, amount=1, price=0.001996, entryTime=1688434505756660.2, eventTime=1688434505756660.2), 1688434506556744.0: Trade(trade_id=154, order_id=156, side=1, taker=True, amount=1, price=0.001996, entryTime=1688434506556744.0, eventTime=1688434506556744.0), 1688438946786238.8: Trade(trade_id=155, order_id=157, side=-1, taker=True, amount=1, price=0.001968, entryTime=1688438946786238.8, eventTime=1688438946786238.8), 1688438947782510.2: Trade(trade_id=156, order_id=158, side=1, taker=True, amount=1, price=0.001967, entryTime=1688438947782510.2, eventTime=1688438947782510.2), 1688449069386793.5: Trade(trade_id=157, order_id=159, side=-1, taker=True, amount=1, price=0.002229, entryTime=1688449069386793.5, eventTime=1688449069386793.5), 1688449072388587.5: Trade(trade_id=158, order_id=160, side=1, taker=True, amount=1, price=0.002226, entryTime=1688449072388587.5, eventTime=1688449072388587.5), 1688452582009626.8: Trade(trade_id=159, order_id=161, side=-1, taker=True, amount=1, price=0.002076, entryTime=1688452582009626.8, eventTime=1688452582009626.8), 1688452582401164.5: Trade(trade_id=160, order_id=162, side=1, taker=True, amount=1, price=0.002076, entryTime=1688452582401164.5, eventTime=1688452582401164.5), 1688488041298032.5: Trade(trade_id=161, order_id=163, side=-1, taker=True, amount=1, price=0.002075, entryTime=1688488041298032.5, eventTime=1688488041298032.5), 1688488042198649.2: Trade(trade_id=162, order_id=164, side=1, taker=True, amount=1, price=0.002075, entryTime=1688488042198649.2, eventTime=1688488042198649.2), 1688498119972605.2: Trade(trade_id=163, order_id=165, side=-1, taker=True, amount=1, price=0.002069, entryTime=1688498119972605.2, eventTime=1688498119972605.2), 1688498123470844.8: Trade(trade_id=164, order_id=166, side=1, taker=True, amount=1, price=0.002066, entryTime=1688498123470844.8, eventTime=1688498123470844.8), 1688499712847693.5: Trade(trade_id=165, order_id=167, side=-1, taker=True, amount=1, price=0.002076, entryTime=1688499712847693.5, eventTime=1688499712847693.5), 1688499713648979.0: Trade(trade_id=166, order_id=168, side=1, taker=True, amount=1, price=0.002076, entryTime=1688499713648979.0, eventTime=1688499713648979.0), 1688506500101536.0: Trade(trade_id=167, order_id=169, side=-1, taker=True, amount=1, price=0.002059, entryTime=1688506500101536.0, eventTime=1688506500101536.0), 1688506500204586.8: Trade(trade_id=168, order_id=170, side=1, taker=True, amount=1, price=0.002059, entryTime=1688506500204586.8, eventTime=1688506500204586.8), 1688520138407318.2: Trade(trade_id=169, order_id=171, side=-1, taker=True, amount=1, price=0.002104, entryTime=1688520138407318.2, eventTime=1688520138407318.2), 1688520138609279.0: Trade(trade_id=170, order_id=172, side=1, taker=True, amount=1, price=0.002102, entryTime=1688520138609279.0, eventTime=1688520138609279.0), 1688545324771390.2: Trade(trade_id=171, order_id=173, side=-1, taker=True, amount=1, price=0.00202, entryTime=1688545324771390.2, eventTime=1688545324771390.2), 1688545325578036.0: Trade(trade_id=172, order_id=174, side=1, taker=True, amount=1, price=0.00202, entryTime=1688545325578036.0, eventTime=1688545325578036.0), 1688553228092216.5: Trade(trade_id=173, order_id=175, side=-1, taker=True, amount=1, price=0.001944, entryTime=1688553228092216.5, eventTime=1688553228092216.5), 1688553230096826.2: Trade(trade_id=174, order_id=176, side=1, taker=True, amount=1, price=0.001944, entryTime=1688553230096826.2, eventTime=1688553230096826.2), 1688554884132660.2: Trade(trade_id=175, order_id=177, side=-1, taker=True, amount=1, price=0.001919, entryTime=1688554884132660.2, eventTime=1688554884132660.2), 1688554886129472.8: Trade(trade_id=176, order_id=178, side=1, taker=True, amount=1, price=0.001919, entryTime=1688554886129472.8, eventTime=1688554886129472.8), 1688554940957929.0: Trade(trade_id=177, order_id=179, side=-1, taker=True, amount=1, price=0.001921, entryTime=1688554940957929.0, eventTime=1688554940957929.0), 1688554943660204.8: Trade(trade_id=178, order_id=180, side=1, taker=True, amount=1, price=0.001921, entryTime=1688554943660204.8, eventTime=1688554943660204.8), 1688558648936157.2: Trade(trade_id=179, order_id=181, side=-1, taker=True, amount=1, price=0.00191, entryTime=1688558648936157.2, eventTime=1688558648936157.2), 1688558649038160.8: Trade(trade_id=180, order_id=182, side=1, taker=True, amount=1, price=0.001909, entryTime=1688558649038160.8, eventTime=1688558649038160.8), 1688559847307418.0: Trade(trade_id=181, order_id=183, side=-1, taker=True, amount=1, price=0.001926, entryTime=1688559847307418.0, eventTime=1688559847307418.0), 1688559849106516.5: Trade(trade_id=182, order_id=184, side=1, taker=True, amount=1, price=0.001926, entryTime=1688559849106516.5, eventTime=1688559849106516.5), 1688568881446040.0: Trade(trade_id=183, order_id=185, side=-1, taker=True, amount=1, price=0.001876, entryTime=1688568881446040.0, eventTime=1688568881446040.0), 1688568888448347.2: Trade(trade_id=184, order_id=186, side=1, taker=True, amount=1, price=0.00188, entryTime=1688568888448347.2, eventTime=1688568888448347.2), 1688569379304523.5: Trade(trade_id=185, order_id=187, side=-1, taker=True, amount=1, price=0.00184, entryTime=1688569379304523.5, eventTime=1688569379304523.5), 1688569381304642.8: Trade(trade_id=186, order_id=188, side=1, taker=True, amount=1, price=0.001839, entryTime=1688569381304642.8, eventTime=1688569381304642.8), 1688569575107688.0: Trade(trade_id=187, order_id=189, side=-1, taker=True, amount=1, price=0.00184, entryTime=1688569575107688.0, eventTime=1688569575107688.0), 1688569576005193.8: Trade(trade_id=188, order_id=190, side=1, taker=True, amount=1, price=0.001839, entryTime=1688569576005193.8, eventTime=1688569576005193.8), 1688569883857458.8: Trade(trade_id=189, order_id=191, side=-1, taker=True, amount=1, price=0.001836, entryTime=1688569883857458.8, eventTime=1688569883857458.8), 1688569886659762.5: Trade(trade_id=190, order_id=192, side=1, taker=True, amount=1, price=0.001836, entryTime=1688569886659762.5, eventTime=1688569886659762.5), 1688570921564641.5: Trade(trade_id=191, order_id=193, side=-1, taker=True, amount=1, price=0.001836, entryTime=1688570921564641.5, eventTime=1688570921564641.5), 1688570922369994.8: Trade(trade_id=192, order_id=194, side=1, taker=True, amount=1, price=0.001836, entryTime=1688570922369994.8, eventTime=1688570922369994.8), 1688573659213368.8: Trade(trade_id=193, order_id=195, side=-1, taker=True, amount=1, price=0.001875, entryTime=1688573659213368.8, eventTime=1688573659213368.8), 1688573660111975.8: Trade(trade_id=194, order_id=196, side=1, taker=True, amount=1, price=0.001873, entryTime=1688573660111975.8, eventTime=1688573660111975.8), 1688574928867517.5: Trade(trade_id=195, order_id=197, side=-1, taker=True, amount=1, price=0.001912, entryTime=1688574928867517.5, eventTime=1688574928867517.5), 1688574928967865.0: Trade(trade_id=196, order_id=198, side=1, taker=True, amount=1, price=0.001912, entryTime=1688574928967865.0, eventTime=1688574928967865.0), 1688577731351732.2: Trade(trade_id=197, order_id=199, side=-1, taker=True, amount=1, price=0.001916, entryTime=1688577731351732.2, eventTime=1688577731351732.2), 1688577731450266.0: Trade(trade_id=198, order_id=200, side=1, taker=True, amount=1, price=0.001916, entryTime=1688577731450266.0, eventTime=1688577731450266.0)})"
      ]
     },
     "execution_count": 48,
     "metadata": {},
     "output_type": "execute_result"
    }
   ],
   "source": [
    "exchg.trades"
   ]
  },
  {
   "cell_type": "code",
   "execution_count": 50,
   "metadata": {},
   "outputs": [
    {
     "data": {
      "text/plain": [
       "{'COMP': -97, 'BTC': 0.29521803580000006}"
      ]
     },
     "execution_count": 50,
     "metadata": {},
     "output_type": "execute_result"
    }
   ],
   "source": [
    "exchg.balance"
   ]
  },
  {
   "cell_type": "code",
   "execution_count": 14,
   "metadata": {},
   "outputs": [],
   "source": [
    "exchg.limit_order('COMPBTC', 20, 0.001712, 1)\n",
    "exchg.limit_order('COMPBTC', 10, 0.001718, 0)"
   ]
  },
  {
   "cell_type": "code",
   "execution_count": 35,
   "metadata": {},
   "outputs": [
    {
     "name": "stdout",
     "output_type": "stream",
     "text": [
      "Bid: 0.001717 | 0.001718 :Ask\n",
      "Open Buy Orders\n",
      "0.001712 @ 20\n",
      "Open Sell Orders\n",
      "Bid: 0.001717 | 0.001718 :Ask\n",
      "Open Buy Orders\n",
      "0.001712 @ 20\n",
      "Open Sell Orders\n",
      "Bid: 0.001717 | 0.001718 :Ask\n",
      "Open Buy Orders\n",
      "0.001712 @ 20\n",
      "Open Sell Orders\n",
      "Bid: 0.001717 | 0.001718 :Ask\n",
      "Open Buy Orders\n",
      "0.001712 @ 20\n",
      "Open Sell Orders\n",
      "Bid: 0.001717 | 0.001718 :Ask\n",
      "Open Buy Orders\n",
      "0.001712 @ 20\n",
      "Open Sell Orders\n"
     ]
    }
   ],
   "source": [
    "for i in range(5):\n",
    "    exchg._simulation_step()"
   ]
  },
  {
   "cell_type": "code",
   "execution_count": null,
   "metadata": {},
   "outputs": [],
   "source": []
  }
 ],
 "metadata": {
  "kernelspec": {
   "display_name": "base",
   "language": "python",
   "name": "python3"
  },
  "language_info": {
   "codemirror_mode": {
    "name": "ipython",
    "version": 3
   },
   "file_extension": ".py",
   "mimetype": "text/x-python",
   "name": "python",
   "nbconvert_exporter": "python",
   "pygments_lexer": "ipython3",
   "version": "3.11.3"
  },
  "orig_nbformat": 4
 },
 "nbformat": 4,
 "nbformat_minor": 2
}
