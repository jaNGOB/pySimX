{
 "cells": [
  {
   "cell_type": "code",
   "execution_count": 31,
   "metadata": {},
   "outputs": [
    {
     "name": "stdout",
     "output_type": "stream",
     "text": [
      "The autoreload extension is already loaded. To reload it, use:\n",
      "  %reload_ext autoreload\n"
     ]
    }
   ],
   "source": [
    "import os \n",
    "import pandas as pd\n",
    "from tqdm import tqdm\n",
    "\n",
    "from src.data_types import TOB, Order\n",
    "from src.exchange import TOB_Exchange\n",
    "\n",
    "%load_ext autoreload \n",
    "%autoreload 2"
   ]
  },
  {
   "cell_type": "code",
   "execution_count": 2,
   "metadata": {},
   "outputs": [
    {
     "data": {
      "text/plain": [
       "['binance_quotes_2023-07-01_COMPBTC.csv.gz',\n",
       " 'binance_quotes_2023-07-02_COMPBTC.csv.gz',\n",
       " 'binance_quotes_2023-07-03_COMPBTC.csv.gz',\n",
       " 'binance_quotes_2023-07-04_COMPBTC.csv.gz']"
      ]
     },
     "execution_count": 2,
     "metadata": {},
     "output_type": "execute_result"
    }
   ],
   "source": [
    "# define folder path\n",
    "folder_path = 'C:/Users/gobel/code/research_env/keyrock/bi-repo/data/tardis/datasets/'\n",
    "# folder_path = '/Users/nick-kokkaliaris/Desktop/Keyrock/Keyrock/Tardis Playground/datasets/'\n",
    "files_list = [\n",
    "    f for f in os.listdir(folder_path) if os.path.isfile(os.path.join(folder_path, f)) \n",
    "    and f.split('_')[0] == 'binance' \n",
    "    and f.split('_')[-1] == 'COMPBTC.csv.gz'\n",
    "    #and f.split('_')[-2] == 'OG'\n",
    "    and f.split('_')[1] == 'quotes']\n",
    "files_list"
   ]
  },
  {
   "cell_type": "code",
   "execution_count": 3,
   "metadata": {},
   "outputs": [],
   "source": [
    "bin_trades = [\n",
    "    f for f in os.listdir(folder_path) if os.path.isfile(os.path.join(folder_path, f)) \n",
    "    and f.split('_')[0] == 'binance' \n",
    "    and f.split('_')[-1] == 'COMPBTC.csv.gz'\n",
    "    #and f.split('_')[-2] == 'OG'\n",
    "    and f.split('_')[1] == 'trades']\n",
    "u_trades = [\n",
    "    f for f in os.listdir(folder_path) if os.path.isfile(os.path.join(folder_path, f)) \n",
    "    and f.split('_')[0] == 'upbit' \n",
    "    and f.split('_')[-1] == 'BTC-COMP.csv.gz'\n",
    "    #and f.split('_')[-2] == 'OG'\n",
    "    and f.split('_')[1] == 'trades']\n",
    "ufiles_list = [\n",
    "    f for f in os.listdir(folder_path) if os.path.isfile(os.path.join(folder_path, f)) \n",
    "    and f.split('_')[0] == 'upbit' \n",
    "    and f.split('_')[-1] == 'BTC-COMP.csv.gz'\n",
    "    #and f.split('_')[-2] == 'OG'\n",
    "    and f.split('_')[1] == 'quotes']"
   ]
  },
  {
   "cell_type": "code",
   "execution_count": 4,
   "metadata": {},
   "outputs": [],
   "source": [
    "def get_data(files_list):\n",
    "    df = pd.DataFrame()\n",
    "    # Use a loop to get all the csv.gz files from the path location in a single Dataframe\n",
    "    for csv_file in tqdm(files_list):\n",
    "        file_name = (folder_path + csv_file)\n",
    "        if file_name[-2:] == \"gz\":\n",
    "            df1 = pd.read_csv(file_name, compression='gzip')\n",
    "            # Concatenate all the dataframes into a single dataframe\n",
    "            df = pd.concat([df, df1], ignore_index=True)\n",
    "    return df"
   ]
  },
  {
   "cell_type": "code",
   "execution_count": 5,
   "metadata": {},
   "outputs": [
    {
     "name": "stderr",
     "output_type": "stream",
     "text": [
      "  0%|          | 0/4 [00:00<?, ?it/s]"
     ]
    },
    {
     "name": "stderr",
     "output_type": "stream",
     "text": [
      "100%|██████████| 4/4 [00:01<00:00,  2.64it/s]\n",
      "100%|██████████| 4/4 [00:00<00:00,  4.18it/s]\n",
      "100%|██████████| 4/4 [00:00<00:00, 51.50it/s]\n",
      "100%|██████████| 4/4 [00:00<00:00, 13.58it/s]\n"
     ]
    }
   ],
   "source": [
    "upbit = get_data(ufiles_list)\n",
    "binance = get_data(files_list)\n",
    "\n",
    "upbit_t = get_data(u_trades)\n",
    "binance_t = get_data(bin_trades)"
   ]
  },
  {
   "cell_type": "code",
   "execution_count": 6,
   "metadata": {},
   "outputs": [],
   "source": [
    "binance['time'] = pd.to_datetime(binance.timestamp, unit='us')\n",
    "upbit['time'] = pd.to_datetime(upbit.timestamp, unit='us')\n",
    "binance_t['time'] = pd.to_datetime(binance_t.timestamp, unit='us')\n",
    "upbit_t['time'] = pd.to_datetime(upbit_t.timestamp, unit='us')\n",
    "\n",
    "binance.set_index('time', inplace=True)\n",
    "upbit.set_index('time', inplace=True)\n",
    "binance_t.set_index('time', inplace=True)\n",
    "upbit_t.set_index('time', inplace=True)"
   ]
  },
  {
   "cell_type": "code",
   "execution_count": 7,
   "metadata": {},
   "outputs": [],
   "source": [
    "binance_t = binance_t[['timestamp', 'side', 'price', 'amount']].groupby(['timestamp', 'side', 'price']).sum().reset_index()"
   ]
  },
  {
   "cell_type": "code",
   "execution_count": 8,
   "metadata": {},
   "outputs": [
    {
     "data": {
      "text/html": [
       "<div>\n",
       "<style scoped>\n",
       "    .dataframe tbody tr th:only-of-type {\n",
       "        vertical-align: middle;\n",
       "    }\n",
       "\n",
       "    .dataframe tbody tr th {\n",
       "        vertical-align: top;\n",
       "    }\n",
       "\n",
       "    .dataframe thead th {\n",
       "        text-align: right;\n",
       "    }\n",
       "</style>\n",
       "<table border=\"1\" class=\"dataframe\">\n",
       "  <thead>\n",
       "    <tr style=\"text-align: right;\">\n",
       "      <th></th>\n",
       "      <th>timestamp</th>\n",
       "      <th>side</th>\n",
       "      <th>price</th>\n",
       "      <th>amount</th>\n",
       "    </tr>\n",
       "  </thead>\n",
       "  <tbody>\n",
       "    <tr>\n",
       "      <th>0</th>\n",
       "      <td>1688169650044000</td>\n",
       "      <td>buy</td>\n",
       "      <td>0.001837</td>\n",
       "      <td>5.242</td>\n",
       "    </tr>\n",
       "    <tr>\n",
       "      <th>1</th>\n",
       "      <td>1688169650454000</td>\n",
       "      <td>sell</td>\n",
       "      <td>0.001836</td>\n",
       "      <td>8.937</td>\n",
       "    </tr>\n",
       "    <tr>\n",
       "      <th>2</th>\n",
       "      <td>1688169650454000</td>\n",
       "      <td>sell</td>\n",
       "      <td>0.001837</td>\n",
       "      <td>17.866</td>\n",
       "    </tr>\n",
       "    <tr>\n",
       "      <th>3</th>\n",
       "      <td>1688169662969000</td>\n",
       "      <td>buy</td>\n",
       "      <td>0.001838</td>\n",
       "      <td>21.387</td>\n",
       "    </tr>\n",
       "    <tr>\n",
       "      <th>4</th>\n",
       "      <td>1688169691584000</td>\n",
       "      <td>sell</td>\n",
       "      <td>0.001835</td>\n",
       "      <td>2.262</td>\n",
       "    </tr>\n",
       "    <tr>\n",
       "      <th>...</th>\n",
       "      <td>...</td>\n",
       "      <td>...</td>\n",
       "      <td>...</td>\n",
       "      <td>...</td>\n",
       "    </tr>\n",
       "    <tr>\n",
       "      <th>46438</th>\n",
       "      <td>1688515122993000</td>\n",
       "      <td>buy</td>\n",
       "      <td>0.002031</td>\n",
       "      <td>1.981</td>\n",
       "    </tr>\n",
       "    <tr>\n",
       "      <th>46439</th>\n",
       "      <td>1688515170284000</td>\n",
       "      <td>sell</td>\n",
       "      <td>0.002030</td>\n",
       "      <td>24.128</td>\n",
       "    </tr>\n",
       "    <tr>\n",
       "      <th>46440</th>\n",
       "      <td>1688515176781000</td>\n",
       "      <td>buy</td>\n",
       "      <td>0.002032</td>\n",
       "      <td>2.135</td>\n",
       "    </tr>\n",
       "    <tr>\n",
       "      <th>46441</th>\n",
       "      <td>1688515178034000</td>\n",
       "      <td>buy</td>\n",
       "      <td>0.002033</td>\n",
       "      <td>11.198</td>\n",
       "    </tr>\n",
       "    <tr>\n",
       "      <th>46442</th>\n",
       "      <td>1688515191037000</td>\n",
       "      <td>buy</td>\n",
       "      <td>0.002034</td>\n",
       "      <td>14.678</td>\n",
       "    </tr>\n",
       "  </tbody>\n",
       "</table>\n",
       "<p>46443 rows × 4 columns</p>\n",
       "</div>"
      ],
      "text/plain": [
       "              timestamp  side     price  amount\n",
       "0      1688169650044000   buy  0.001837   5.242\n",
       "1      1688169650454000  sell  0.001836   8.937\n",
       "2      1688169650454000  sell  0.001837  17.866\n",
       "3      1688169662969000   buy  0.001838  21.387\n",
       "4      1688169691584000  sell  0.001835   2.262\n",
       "...                 ...   ...       ...     ...\n",
       "46438  1688515122993000   buy  0.002031   1.981\n",
       "46439  1688515170284000  sell  0.002030  24.128\n",
       "46440  1688515176781000   buy  0.002032   2.135\n",
       "46441  1688515178034000   buy  0.002033  11.198\n",
       "46442  1688515191037000   buy  0.002034  14.678\n",
       "\n",
       "[46443 rows x 4 columns]"
      ]
     },
     "execution_count": 8,
     "metadata": {},
     "output_type": "execute_result"
    }
   ],
   "source": [
    "binance_t"
   ]
  },
  {
   "cell_type": "markdown",
   "metadata": {},
   "source": [
    "Updates: \n",
    "- 1: bid quantity update \n",
    "- 2: new top bid \n",
    "- 3: new top ask \n",
    "- 4: ask quantity update \n",
    "- 5: complete update"
   ]
  },
  {
   "cell_type": "code",
   "execution_count": 9,
   "metadata": {},
   "outputs": [],
   "source": [
    "lst = binance[['timestamp', 'bid_amount', 'bid_price', 'ask_price', 'ask_amount']].sort_values('timestamp').to_numpy()"
   ]
  },
  {
   "cell_type": "code",
   "execution_count": 10,
   "metadata": {},
   "outputs": [],
   "source": [
    "exchg = TOB_Exchange()"
   ]
  },
  {
   "cell_type": "code",
   "execution_count": 19,
   "metadata": {},
   "outputs": [],
   "source": [
    "exchg.load_tob(lst, 'COMPBTC')"
   ]
  },
  {
   "cell_type": "code",
   "execution_count": 20,
   "metadata": {},
   "outputs": [],
   "source": [
    "t = exchg.events.peekitem(0)[1].popleft()"
   ]
  },
  {
   "cell_type": "code",
   "execution_count": 21,
   "metadata": {},
   "outputs": [
    {
     "data": {
      "text/plain": [
       "deque([])"
      ]
     },
     "execution_count": 21,
     "metadata": {},
     "output_type": "execute_result"
    }
   ],
   "source": [
    "exchg.events.peekitem(0)[1]"
   ]
  },
  {
   "cell_type": "code",
   "execution_count": 15,
   "metadata": {},
   "outputs": [
    {
     "name": "stdout",
     "output_type": "stream",
     "text": [
      "Bid: 0.001833 | 0.001834 :Ask\n"
     ]
    }
   ],
   "source": [
    "w = exchg.top_of_book('COMPBTC')"
   ]
  },
  {
   "cell_type": "code",
   "execution_count": 42,
   "metadata": {},
   "outputs": [],
   "source": [
    "current = lst[0]\n",
    "current = TOB(timestamp=current[0], bq=current[1], bp=current[2], ap=current[3], aq=current[4])"
   ]
  },
  {
   "cell_type": "code",
   "execution_count": 43,
   "metadata": {},
   "outputs": [],
   "source": [
    "n = lst[1]\n",
    "n = TOB(timestamp=n[0], bq=n[1], bp=n[2], ap=n[3], aq=n[4])"
   ]
  },
  {
   "cell_type": "code",
   "execution_count": 49,
   "metadata": {},
   "outputs": [
    {
     "name": "stdout",
     "output_type": "stream",
     "text": [
      "change in bid quantity\n"
     ]
    }
   ],
   "source": [
    "c = 0\n",
    "\n",
    "if current.bq != n.bq: \n",
    "    c += 1\n",
    "    print('change in bid quantity')\n",
    "    if current.bp != n.bp:\n",
    "        c += 1\n",
    "        print('also price change')\n",
    "elif current.aq != n.aq:\n",
    "    print('change in ask quantity')\n",
    "\n",
    "    "
   ]
  },
  {
   "cell_type": "code",
   "execution_count": 48,
   "metadata": {},
   "outputs": [
    {
     "data": {
      "text/plain": [
       "TOB(timestamp=1688169604648000.0, bq=11.185, bp=0.001833, ap=0.001834, aq=2.264)"
      ]
     },
     "execution_count": 48,
     "metadata": {},
     "output_type": "execute_result"
    }
   ],
   "source": [
    "n"
   ]
  },
  {
   "cell_type": "code",
   "execution_count": 45,
   "metadata": {},
   "outputs": [
    {
     "data": {
      "text/plain": [
       "TOB(timestamp=1688169604555574.0, bq=21.861, bp=0.001833, ap=0.001834, aq=2.264)"
      ]
     },
     "execution_count": 45,
     "metadata": {},
     "output_type": "execute_result"
    }
   ],
   "source": [
    "current"
   ]
  },
  {
   "cell_type": "code",
   "execution_count": null,
   "metadata": {},
   "outputs": [],
   "source": [
    "def strategy(top_bid, top_ask):\n",
    "    \n",
    "    if open_orders:"
   ]
  },
  {
   "cell_type": "code",
   "execution_count": 17,
   "metadata": {},
   "outputs": [
    {
     "data": {
      "text/html": [
       "<div>\n",
       "<style scoped>\n",
       "    .dataframe tbody tr th:only-of-type {\n",
       "        vertical-align: middle;\n",
       "    }\n",
       "\n",
       "    .dataframe tbody tr th {\n",
       "        vertical-align: top;\n",
       "    }\n",
       "\n",
       "    .dataframe thead th {\n",
       "        text-align: right;\n",
       "    }\n",
       "</style>\n",
       "<table border=\"1\" class=\"dataframe\">\n",
       "  <thead>\n",
       "    <tr style=\"text-align: right;\">\n",
       "      <th></th>\n",
       "      <th>exchange</th>\n",
       "      <th>symbol</th>\n",
       "      <th>timestamp</th>\n",
       "      <th>local_timestamp</th>\n",
       "      <th>id</th>\n",
       "      <th>side</th>\n",
       "      <th>price</th>\n",
       "      <th>amount</th>\n",
       "    </tr>\n",
       "    <tr>\n",
       "      <th>time</th>\n",
       "      <th></th>\n",
       "      <th></th>\n",
       "      <th></th>\n",
       "      <th></th>\n",
       "      <th></th>\n",
       "      <th></th>\n",
       "      <th></th>\n",
       "      <th></th>\n",
       "    </tr>\n",
       "  </thead>\n",
       "  <tbody>\n",
       "    <tr>\n",
       "      <th>2023-07-01 00:00:04.991</th>\n",
       "      <td>upbit</td>\n",
       "      <td>BTC-COMP</td>\n",
       "      <td>1688169604991000</td>\n",
       "      <td>1688169605052807</td>\n",
       "      <td>16881696049910000</td>\n",
       "      <td>buy</td>\n",
       "      <td>0.001838</td>\n",
       "      <td>0.435206</td>\n",
       "    </tr>\n",
       "    <tr>\n",
       "      <th>2023-07-01 00:00:33.090</th>\n",
       "      <td>upbit</td>\n",
       "      <td>BTC-COMP</td>\n",
       "      <td>1688169633090000</td>\n",
       "      <td>1688169633143121</td>\n",
       "      <td>16881696330900000</td>\n",
       "      <td>buy</td>\n",
       "      <td>0.001838</td>\n",
       "      <td>11.569343</td>\n",
       "    </tr>\n",
       "    <tr>\n",
       "      <th>2023-07-01 00:00:51.615</th>\n",
       "      <td>upbit</td>\n",
       "      <td>BTC-COMP</td>\n",
       "      <td>1688169651615000</td>\n",
       "      <td>1688169651683521</td>\n",
       "      <td>16881696516150000</td>\n",
       "      <td>buy</td>\n",
       "      <td>0.001838</td>\n",
       "      <td>0.272007</td>\n",
       "    </tr>\n",
       "    <tr>\n",
       "      <th>2023-07-01 00:01:38.951</th>\n",
       "      <td>upbit</td>\n",
       "      <td>BTC-COMP</td>\n",
       "      <td>1688169698951000</td>\n",
       "      <td>1688169699023291</td>\n",
       "      <td>16881696989510000</td>\n",
       "      <td>sell</td>\n",
       "      <td>0.001816</td>\n",
       "      <td>3.145549</td>\n",
       "    </tr>\n",
       "    <tr>\n",
       "      <th>2023-07-01 00:01:50.078</th>\n",
       "      <td>upbit</td>\n",
       "      <td>BTC-COMP</td>\n",
       "      <td>1688169710078000</td>\n",
       "      <td>1688169710144191</td>\n",
       "      <td>16881697100780000</td>\n",
       "      <td>buy</td>\n",
       "      <td>0.001838</td>\n",
       "      <td>0.275292</td>\n",
       "    </tr>\n",
       "    <tr>\n",
       "      <th>...</th>\n",
       "      <td>...</td>\n",
       "      <td>...</td>\n",
       "      <td>...</td>\n",
       "      <td>...</td>\n",
       "      <td>...</td>\n",
       "      <td>...</td>\n",
       "      <td>...</td>\n",
       "      <td>...</td>\n",
       "    </tr>\n",
       "    <tr>\n",
       "      <th>2023-07-04 23:55:51.298</th>\n",
       "      <td>upbit</td>\n",
       "      <td>BTC-COMP</td>\n",
       "      <td>1688514951298000</td>\n",
       "      <td>1688514951363019</td>\n",
       "      <td>16885149512980002</td>\n",
       "      <td>sell</td>\n",
       "      <td>0.002023</td>\n",
       "      <td>4.327845</td>\n",
       "    </tr>\n",
       "    <tr>\n",
       "      <th>2023-07-04 23:55:51.298</th>\n",
       "      <td>upbit</td>\n",
       "      <td>BTC-COMP</td>\n",
       "      <td>1688514951298000</td>\n",
       "      <td>1688514951363020</td>\n",
       "      <td>16885149512980004</td>\n",
       "      <td>sell</td>\n",
       "      <td>0.002011</td>\n",
       "      <td>0.452033</td>\n",
       "    </tr>\n",
       "    <tr>\n",
       "      <th>2023-07-04 23:58:19.507</th>\n",
       "      <td>upbit</td>\n",
       "      <td>BTC-COMP</td>\n",
       "      <td>1688515099507000</td>\n",
       "      <td>1688515099572823</td>\n",
       "      <td>16885150995070000</td>\n",
       "      <td>sell</td>\n",
       "      <td>0.002012</td>\n",
       "      <td>3.253482</td>\n",
       "    </tr>\n",
       "    <tr>\n",
       "      <th>2023-07-04 23:59:23.707</th>\n",
       "      <td>upbit</td>\n",
       "      <td>BTC-COMP</td>\n",
       "      <td>1688515163707000</td>\n",
       "      <td>1688515163773306</td>\n",
       "      <td>16885151637070000</td>\n",
       "      <td>sell</td>\n",
       "      <td>0.002012</td>\n",
       "      <td>0.766092</td>\n",
       "    </tr>\n",
       "    <tr>\n",
       "      <th>2023-07-04 23:59:23.707</th>\n",
       "      <td>upbit</td>\n",
       "      <td>BTC-COMP</td>\n",
       "      <td>1688515163707000</td>\n",
       "      <td>1688515163782672</td>\n",
       "      <td>16885151637070002</td>\n",
       "      <td>sell</td>\n",
       "      <td>0.002012</td>\n",
       "      <td>8.204706</td>\n",
       "    </tr>\n",
       "  </tbody>\n",
       "</table>\n",
       "<p>13300 rows × 8 columns</p>\n",
       "</div>"
      ],
      "text/plain": [
       "                        exchange    symbol         timestamp  \\\n",
       "time                                                           \n",
       "2023-07-01 00:00:04.991    upbit  BTC-COMP  1688169604991000   \n",
       "2023-07-01 00:00:33.090    upbit  BTC-COMP  1688169633090000   \n",
       "2023-07-01 00:00:51.615    upbit  BTC-COMP  1688169651615000   \n",
       "2023-07-01 00:01:38.951    upbit  BTC-COMP  1688169698951000   \n",
       "2023-07-01 00:01:50.078    upbit  BTC-COMP  1688169710078000   \n",
       "...                          ...       ...               ...   \n",
       "2023-07-04 23:55:51.298    upbit  BTC-COMP  1688514951298000   \n",
       "2023-07-04 23:55:51.298    upbit  BTC-COMP  1688514951298000   \n",
       "2023-07-04 23:58:19.507    upbit  BTC-COMP  1688515099507000   \n",
       "2023-07-04 23:59:23.707    upbit  BTC-COMP  1688515163707000   \n",
       "2023-07-04 23:59:23.707    upbit  BTC-COMP  1688515163707000   \n",
       "\n",
       "                          local_timestamp                 id  side     price  \\\n",
       "time                                                                           \n",
       "2023-07-01 00:00:04.991  1688169605052807  16881696049910000   buy  0.001838   \n",
       "2023-07-01 00:00:33.090  1688169633143121  16881696330900000   buy  0.001838   \n",
       "2023-07-01 00:00:51.615  1688169651683521  16881696516150000   buy  0.001838   \n",
       "2023-07-01 00:01:38.951  1688169699023291  16881696989510000  sell  0.001816   \n",
       "2023-07-01 00:01:50.078  1688169710144191  16881697100780000   buy  0.001838   \n",
       "...                                   ...                ...   ...       ...   \n",
       "2023-07-04 23:55:51.298  1688514951363019  16885149512980002  sell  0.002023   \n",
       "2023-07-04 23:55:51.298  1688514951363020  16885149512980004  sell  0.002011   \n",
       "2023-07-04 23:58:19.507  1688515099572823  16885150995070000  sell  0.002012   \n",
       "2023-07-04 23:59:23.707  1688515163773306  16885151637070000  sell  0.002012   \n",
       "2023-07-04 23:59:23.707  1688515163782672  16885151637070002  sell  0.002012   \n",
       "\n",
       "                            amount  \n",
       "time                                \n",
       "2023-07-01 00:00:04.991   0.435206  \n",
       "2023-07-01 00:00:33.090  11.569343  \n",
       "2023-07-01 00:00:51.615   0.272007  \n",
       "2023-07-01 00:01:38.951   3.145549  \n",
       "2023-07-01 00:01:50.078   0.275292  \n",
       "...                            ...  \n",
       "2023-07-04 23:55:51.298   4.327845  \n",
       "2023-07-04 23:55:51.298   0.452033  \n",
       "2023-07-04 23:58:19.507   3.253482  \n",
       "2023-07-04 23:59:23.707   0.766092  \n",
       "2023-07-04 23:59:23.707   8.204706  \n",
       "\n",
       "[13300 rows x 8 columns]"
      ]
     },
     "execution_count": 17,
     "metadata": {},
     "output_type": "execute_result"
    }
   ],
   "source": [
    "upbit_t"
   ]
  },
  {
   "cell_type": "code",
   "execution_count": null,
   "metadata": {},
   "outputs": [],
   "source": []
  }
 ],
 "metadata": {
  "kernelspec": {
   "display_name": "base",
   "language": "python",
   "name": "python3"
  },
  "language_info": {
   "codemirror_mode": {
    "name": "ipython",
    "version": 3
   },
   "file_extension": ".py",
   "mimetype": "text/x-python",
   "name": "python",
   "nbconvert_exporter": "python",
   "pygments_lexer": "ipython3",
   "version": "3.11.3"
  },
  "orig_nbformat": 4
 },
 "nbformat": 4,
 "nbformat_minor": 2
}
